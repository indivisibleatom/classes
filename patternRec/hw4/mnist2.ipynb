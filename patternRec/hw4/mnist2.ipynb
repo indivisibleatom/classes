{
 "cells": [
  {
   "cell_type": "code",
   "execution_count": 2,
   "metadata": {
    "collapsed": false
   },
   "outputs": [
    {
     "name": "stderr",
     "output_type": "stream",
     "text": [
      "/usr/local/lib/python2.7/dist-packages/matplotlib/font_manager.py:273: UserWarning: Matplotlib is building the font cache using fc-list. This may take a moment.\n",
      "  warnings.warn('Matplotlib is building the font cache using fc-list. This may take a moment.')\n",
      "/home/mukul/development/deepLearning/caffe/python/caffe/pycaffe.py:13: RuntimeWarning: to-Python converter for boost::shared_ptr<caffe::Net<float> > already registered; second conversion method ignored.\n",
      "  from ._caffe import Net, SGDSolver, NesterovSolver, AdaGradSolver, \\\n",
      "/home/mukul/development/deepLearning/caffe/python/caffe/pycaffe.py:13: RuntimeWarning: to-Python converter for boost::shared_ptr<caffe::Blob<float> > already registered; second conversion method ignored.\n",
      "  from ._caffe import Net, SGDSolver, NesterovSolver, AdaGradSolver, \\\n",
      "/home/mukul/development/deepLearning/caffe/python/caffe/pycaffe.py:13: RuntimeWarning: to-Python converter for boost::shared_ptr<caffe::Solver<float> > already registered; second conversion method ignored.\n",
      "  from ._caffe import Net, SGDSolver, NesterovSolver, AdaGradSolver, \\\n"
     ]
    },
    {
     "name": "stdout",
     "output_type": "stream",
     "text": [
      "Couldn't import dot_parser, loading of dot files will not be possible.\n"
     ]
    }
   ],
   "source": [
    "%matplotlib inline\n",
    "%load_ext autoreload\n",
    "%autoreload 2\n",
    "%reset -f\n",
    "\n",
    "from collections import defaultdict\n",
    "import matplotlib.pyplot as plt\n",
    "import matplotlib\n",
    "import pandas as pd\n",
    "import numpy as np\n",
    "import os\n",
    "import lmdb\n",
    "\n",
    "from google.protobuf import text_format\n",
    "from PIL import Image\n",
    "import StringIO\n",
    "import caffe\n",
    "import caffe.draw\n",
    "from caffe.proto import caffe_pb2\n",
    "caffe.set_mode_gpu()"
   ]
  },
  {
   "cell_type": "code",
   "execution_count": 41,
   "metadata": {
    "collapsed": false
   },
   "outputs": [],
   "source": [
    "import python.helpers as helpers"
   ]
  },
  {
   "cell_type": "code",
   "execution_count": 4,
   "metadata": {
    "collapsed": true
   },
   "outputs": [],
   "source": [
    "solverPrototxt = \"models/mnist2_solver.prototxt\"\n",
    "trainingPrototxt = \"models/mnist2_train_test.prototxt\"\n",
    "testingPrototxt = \"models/mnist2_deploy.prototxt\"\n",
    "\n",
    "trainingLogFile = \"logs/train_mnist2.log\"\n",
    "testingData =\"bin/mnist_test_lmdb\"\n",
    "\n",
    "trainedModel = \"snapshots/mnist2_iter_10000.caffemodel\""
   ]
  },
  {
   "cell_type": "code",
   "execution_count": null,
   "metadata": {
    "collapsed": false
   },
   "outputs": [],
   "source": [
    "#Visualize\n",
    "netDesc = caffe_pb2.NetParameter()\n",
    "text_format.Merge(open(trainingPrototxt).read(), netDesc)\n",
    "image = Image.open(StringIO.StringIO(caffe.draw.draw_net(netDesc, \"TB\")))\n",
    "image.show()"
   ]
  },
  {
   "cell_type": "code",
   "execution_count": null,
   "metadata": {
    "collapsed": false
   },
   "outputs": [],
   "source": [
    "#Train the net\n",
    "os.system(\"bash run_training_pipeline.sh mnist --arch2 --train --gray\")"
   ]
  },
  {
   "cell_type": "code",
   "execution_count": null,
   "metadata": {
    "collapsed": false
   },
   "outputs": [],
   "source": [
    "net = caffe.Net(trainingPrototxt, trainedModel, caffe.TEST)"
   ]
  },
  {
   "cell_type": "code",
   "execution_count": null,
   "metadata": {
    "collapsed": false
   },
   "outputs": [],
   "source": [
    "#Show training graph\n",
    "matplotlib.rcParams.update({'font.size': 14})\n",
    "iterations, losses = helpers.getTrainingLossFromTrainingFile(trainingLogFile)\n",
    "plt.plot(iterations, losses, label=\"Training Loss\")\n",
    "\n",
    "iterations, accuracy = helpers.getAccuracyFromTrainingFile(trainingLogFile)\n",
    "plt.plot(iterations, accuracy, label=\"Accuracy\")\n",
    "\n",
    "iterations, losses = helpers.getTestingLossFromTrainingFile(trainingLogFile)\n",
    "plt.plot(iterations, losses, label=\"Testing Loss\")\n",
    "\n",
    "plt.xlabel(\"Iterations\")\n",
    "plt.ylabel(\"Accuracy/Loss\")\n",
    "\n",
    "plt.legend(loc='upper left')\n",
    "\n",
    "plt.show()\n",
    "\n",
    "print \"Baseline training loss \" + losses[0]\n",
    "print \"Baseline test accuracy \" + accuracy[0]\n",
    "\n",
    "print \"Final training loss \" + losses[-1]\n",
    "print \"Final test accuracy \" + accuracy[-1]"
   ]
  },
  {
   "cell_type": "code",
   "execution_count": null,
   "metadata": {
    "collapsed": false
   },
   "outputs": [],
   "source": [
    "#Visualize learned filters from first layer\n",
    "filters = net.params[\"conv1\"][0].data\n",
    "helpers.showFilterGrid(filters.transpose(0, 2, 3, 1), True)"
   ]
  },
  {
   "cell_type": "code",
   "execution_count": null,
   "metadata": {
    "collapsed": false
   },
   "outputs": [],
   "source": [
    "#Visualize some learned filters from second layer.\n",
    "#Normalize them for good measure\n",
    "numFilters = 6\n",
    "gridSize = (int(np.ceil(numFilters/3.0)), 3)\n",
    "for i in np.arange(0,numFilters):\n",
    "    filters = net.params[\"conv2\"][0].data[:,i:i+1,:,:]\n",
    "    maxValue = np.amax(np.amax(filters, axis=2), axis=2)\n",
    "    minValue = np.amax(np.amin(filters, axis=2), axis=2)\n",
    "    filters = filters.transpose(2,3,0,1)\n",
    "    filtersNormalized = filters - maxValue / (maxValue- minValue)\n",
    "    filters = filtersNormalized.transpose(2,3,0,1)\n",
    "\n",
    "    plt.subplot(gridSize[0],gridSize[1], i+1)\n",
    "    helpers.showFilterGrid(filters.transpose(0, 2, 3, 1), True)\n",
    "plt.show()"
   ]
  },
  {
   "cell_type": "code",
   "execution_count": null,
   "metadata": {
    "collapsed": true
   },
   "outputs": [],
   "source": [
    "del net"
   ]
  },
  {
   "cell_type": "code",
   "execution_count": 71,
   "metadata": {
    "collapsed": false
   },
   "outputs": [
    {
     "data": {
      "image/png": "[encoded data removed]",
      "text/plain": [
       "<matplotlib.figure.Figure at 0x7f8d4b6c0d50>"
      ]
     },
     "metadata": {},
     "output_type": "display_data"
    },
    {
     "data": {
      "image/png": "[encoded data removed]",
      "text/plain": [
       "<matplotlib.figure.Figure at 0x7f8d4b6c0350>"
      ]
     },
     "metadata": {},
     "output_type": "display_data"
    }
   ],
   "source": [
    "#Confusion matrix and eyeballing incorrect thru python using deploy model\n",
    "net = caffe.Net(testingPrototxt, trainedModel, caffe.TEST)\n",
    "\n",
    "caffe.set_mode_cpu()\n",
    "\n",
    "lmbd_env = lmdb.open(testingData)\n",
    "reader = helpers.lmdb_reader(lmbd_env)\n",
    "\n",
    "numToEyeball = 5\n",
    "numIncorrect = 0\n",
    "groundTruths = np.empty((0), dtype=int)\n",
    "predictions = np.empty((0), dtype=int)\n",
    "\n",
    "for i, image, label in reader:\n",
    "    out = net.forward_all(data=np.asarray([ image ]))\n",
    "    \n",
    "    prediction = int(out['prob'][0].argmax(axis=0))\n",
    "    count += 1\n",
    "    iscorrect = label == plabel\n",
    "    groundTruths = np.append(groundTruths, label)\n",
    "    predictions = np.append(predictions, prediction)\n",
    "\n",
    "    if not iscorrect and numIncorrect < numToEyeball:\n",
    "        numIncorrect += 1\n",
    "        plt.subplot(1, numToEyeball, numIncorrect)\n",
    "        plt.axis('off')\n",
    "        plt.imshow(image.transpose(1,2,0)[:,:,0], cmap='gray')\n",
    "        plt.title(\"T/Pr \" + str(label) + \"/\" + str(plabel))\n",
    "\n",
    "lmbd_env.close()      \n",
    "plt.show()\n",
    "\n",
    "helpers.showConfusionMatrix(helpers.getConfusionMatrix(groundTruths, predictions), np.arange(10))\n",
    "plt.show()\n",
    "\n",
    "del net"
   ]
  }
 ],
 "metadata": {
  "kernelspec": {
   "display_name": "Python 2",
   "language": "python",
   "name": "python2"
  },
  "language_info": {
   "codemirror_mode": {
    "name": "ipython",
    "version": 2
   },
   "file_extension": ".py",
   "mimetype": "text/x-python",
   "name": "python",
   "nbconvert_exporter": "python",
   "pygments_lexer": "ipython2",
   "version": "2.7.6"
  }
 },
 "nbformat": 4,
 "nbformat_minor": 0
}
