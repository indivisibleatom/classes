{
 "metadata": {
  "name": ""
 },
 "nbformat": 3,
 "nbformat_minor": 0,
 "worksheets": [
  {
   "cells": [
    {
     "cell_type": "code",
     "collapsed": false,
     "input": [
      "%load_ext autoreload\n",
      "%autoreload 2\n",
      "%matplotlib inline\n",
      "%reset -f"
     ],
     "language": "python",
     "metadata": {},
     "outputs": [
      {
       "output_type": "stream",
       "stream": "stdout",
       "text": [
        "The autoreload extension is already loaded. To reload it, use:\n",
        "  %reload_ext autoreload\n"
       ]
      }
     ],
     "prompt_number": 356
    },
    {
     "cell_type": "code",
     "collapsed": false,
     "input": [
      "import numpy as np\n",
      "import matplotlib.pyplot as plt\n",
      "import pandas\n",
      "\n",
      "import helpers\n",
      "import dataSetManager\n",
      "from hmmModel import HMMModel"
     ],
     "language": "python",
     "metadata": {},
     "outputs": [],
     "prompt_number": 357
    },
    {
     "cell_type": "code",
     "collapsed": false,
     "input": [
      "dm = dataSetManager.RobotDatasetManager()\n",
      "\n",
      "hmmModel = HMMModel()\n",
      "hmmModel.fit(dm.trainingData)"
     ],
     "language": "python",
     "metadata": {},
     "outputs": [],
     "prompt_number": 358
    },
    {
     "cell_type": "code",
     "collapsed": false,
     "input": [
      "helpers.plotLatticeStackedProbabilities(hmmModel.observationP, hmmModel.observationSymbols+('k',))\n",
      "plt.show()"
     ],
     "language": "python",
     "metadata": {},
     "outputs": [
      {
       "metadata": {},
       "output_type": "display_data",
       "png": "[encoded data removed]",
       "text": [
        "<matplotlib.figure.Figure at 0x7f7d1c12e358>"
       ]
      }
     ],
     "prompt_number": 359
    },
    {
     "cell_type": "code",
     "collapsed": false,
     "input": [
      "hmmModel.score(dm.testingData[0])"
     ],
     "language": "python",
     "metadata": {},
     "outputs": [
      {
       "output_type": "stream",
       "stream": "stdout",
       "text": [
        "[[  0.00000000e+000   2.84892491e-214   2.37621493e-170   0.00000000e+000]\n",
        " [  1.15358299e-191   0.00000000e+000   1.50473246e-202   1.49535980e-202]\n",
        " [  9.40548916e-194   3.17145842e-194   7.55260765e-130   4.95217242e-227]\n",
        " [  1.66749150e-252   6.24284119e-166   0.00000000e+000   8.38152658e-221]] 7.55260765493e-130 (2, 2)\n",
        "2 3 1 3\n",
        "1 3 1 3\n",
        "2 3 2 3\n",
        "2 3 2 4\n",
        "3 3 2 3\n",
        "3 2 2 3\n",
        "3 2 2 3\n",
        "3 3 1 3\n",
        "3 3 1 3\n",
        "3 3 1 2\n"
       ]
      },
      {
       "metadata": {},
       "output_type": "pyout",
       "prompt_number": 361,
       "text": [
        "0.115"
       ]
      }
     ],
     "prompt_number": 361
    },
    {
     "cell_type": "code",
     "collapsed": false,
     "input": [],
     "language": "python",
     "metadata": {},
     "outputs": [],
     "prompt_number": 360
    }
   ],
   "metadata": {}
  }
 ]
}