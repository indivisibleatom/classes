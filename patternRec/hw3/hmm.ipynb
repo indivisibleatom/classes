{
 "metadata": {
  "name": ""
 },
 "nbformat": 3,
 "nbformat_minor": 0,
 "worksheets": [
  {
   "cells": [
    {
     "cell_type": "code",
     "collapsed": false,
     "input": [
      "%load_ext autoreload\n",
      "%autoreload 2\n",
      "%matplotlib inline\n",
      "%reset -f"
     ],
     "language": "python",
     "metadata": {},
     "outputs": [],
     "prompt_number": 3
    },
    {
     "cell_type": "code",
     "collapsed": false,
     "input": [
      "import numpy as np\n",
      "import matplotlib.pyplot as plt\n",
      "import pandas\n",
      "import helpers\n",
      "import dataSetManager\n",
      "from KNNClassifier import KNNClassifier"
     ],
     "language": "python",
     "metadata": {},
     "outputs": [],
     "prompt_number": 4
    },
    {
     "cell_type": "code",
     "collapsed": false,
     "input": [
      "#Train\n",
      "#P = [0.2, 0.5, 0.8, 1] #How much of training to sample for cross validation\n",
      "#TSSCardinality = 2 #Number of training sets to create\n",
      "#N = [5, 10] #how many fold cross validation : 0 - leave one out\n",
      "#K = [1, 3, 5]\n",
      "\n",
      "P = [0.2] #How much of training to sample for cross validation\n",
      "TSSCardinality = 1 #Number of training sets to create\n",
      "N = [2] #how many fold cross validation : 0 - leave one out\n",
      "K = [2]\n",
      "\n",
      "dm = dataSetManager.MNISTDatasetManager()\n",
      "dm.populateTrainTest()\n",
      "\n",
      "#Cross-validations\n",
      "runResult = np.zeros((len(P), TSSCardinality, len(N), len(K)), dtype=np.ndarray)\n",
      "for a in np.arange(len(P)):\n",
      "    for b in np.arange(TSSCardinality):\n",
      "        ts = helpers.sample(dm.trainingData, dm.labelColumn, P[a], False) #Sample without replacement\n",
      "        ts = ts.reindex(np.random.permutation(ts.index))\n",
      "        cvX = ts.drop(dm.labelColumn, axis=1).as_matrix()\n",
      "        cvy = ts[dm.labelColumn].as_matrix()\n",
      "        classes, classIndices = np.unique(cvy, return_inverse=True)\n",
      "        for c in np.arange(len(N)):\n",
      "            for d in np.arange(len(K)): ## TODO msati3: Parallelize\n",
      "                classifier = KNNClassifier(K[d])\n",
      "                nfolds = helpers.getCrossValidationIterator(ts.shape[0], N[c])\n",
      "                runResult[a,b,c,d] = np.array(cv.cross_val_score(classifier, cvX, y=cvy, cv=nfolds, n_jobs=-1))"
     ],
     "language": "python",
     "metadata": {},
     "outputs": [
      {
       "ename": "KeyboardInterrupt",
       "evalue": "",
       "output_type": "pyerr",
       "traceback": [
        "\u001b[0;31m---------------------------------------------------------------------------\u001b[0m\n\u001b[0;31mKeyboardInterrupt\u001b[0m                         Traceback (most recent call last)",
        "\u001b[0;32m<ipython-input-7-9ed19a40d89d>\u001b[0m in \u001b[0;36m<module>\u001b[0;34m()\u001b[0m\n\u001b[1;32m     26\u001b[0m                 \u001b[0mclassifier\u001b[0m \u001b[0;34m=\u001b[0m \u001b[0mKNNClassifier\u001b[0m\u001b[0;34m(\u001b[0m\u001b[0mK\u001b[0m\u001b[0;34m[\u001b[0m\u001b[0md\u001b[0m\u001b[0;34m]\u001b[0m\u001b[0;34m)\u001b[0m\u001b[0;34m\u001b[0m\u001b[0m\n\u001b[1;32m     27\u001b[0m                 \u001b[0mnfolds\u001b[0m \u001b[0;34m=\u001b[0m \u001b[0mhelpers\u001b[0m\u001b[0;34m.\u001b[0m\u001b[0mgetCrossValidationIterator\u001b[0m\u001b[0;34m(\u001b[0m\u001b[0mts\u001b[0m\u001b[0;34m.\u001b[0m\u001b[0mshape\u001b[0m\u001b[0;34m[\u001b[0m\u001b[0;36m0\u001b[0m\u001b[0;34m]\u001b[0m\u001b[0;34m,\u001b[0m \u001b[0mN\u001b[0m\u001b[0;34m[\u001b[0m\u001b[0mc\u001b[0m\u001b[0;34m]\u001b[0m\u001b[0;34m)\u001b[0m\u001b[0;34m\u001b[0m\u001b[0m\n\u001b[0;32m---> 28\u001b[0;31m                 \u001b[0mrunResult\u001b[0m\u001b[0;34m[\u001b[0m\u001b[0ma\u001b[0m\u001b[0;34m,\u001b[0m\u001b[0mb\u001b[0m\u001b[0;34m,\u001b[0m\u001b[0mc\u001b[0m\u001b[0;34m,\u001b[0m\u001b[0md\u001b[0m\u001b[0;34m]\u001b[0m \u001b[0;34m=\u001b[0m \u001b[0mnp\u001b[0m\u001b[0;34m.\u001b[0m\u001b[0marray\u001b[0m\u001b[0;34m(\u001b[0m\u001b[0mcv\u001b[0m\u001b[0;34m.\u001b[0m\u001b[0mcross_val_score\u001b[0m\u001b[0;34m(\u001b[0m\u001b[0mclassifier\u001b[0m\u001b[0;34m,\u001b[0m \u001b[0mcvX\u001b[0m\u001b[0;34m,\u001b[0m \u001b[0my\u001b[0m\u001b[0;34m=\u001b[0m\u001b[0mcvy\u001b[0m\u001b[0;34m,\u001b[0m \u001b[0mcv\u001b[0m\u001b[0;34m=\u001b[0m\u001b[0mnfolds\u001b[0m\u001b[0;34m,\u001b[0m \u001b[0mn_jobs\u001b[0m\u001b[0;34m=\u001b[0m\u001b[0;34m-\u001b[0m\u001b[0;36m1\u001b[0m\u001b[0;34m)\u001b[0m\u001b[0;34m)\u001b[0m\u001b[0;34m\u001b[0m\u001b[0m\n\u001b[0m",
        "\u001b[0;32m/usr/local/lib/python3.4/dist-packages/sklearn/cross_validation.py\u001b[0m in \u001b[0;36mcross_val_score\u001b[0;34m(estimator, X, y, scoring, cv, n_jobs, verbose, fit_params, pre_dispatch)\u001b[0m\n\u001b[1;32m   1431\u001b[0m                                               \u001b[0mtrain\u001b[0m\u001b[0;34m,\u001b[0m \u001b[0mtest\u001b[0m\u001b[0;34m,\u001b[0m \u001b[0mverbose\u001b[0m\u001b[0;34m,\u001b[0m \u001b[0;32mNone\u001b[0m\u001b[0;34m,\u001b[0m\u001b[0;34m\u001b[0m\u001b[0m\n\u001b[1;32m   1432\u001b[0m                                               fit_params)\n\u001b[0;32m-> 1433\u001b[0;31m                       for train, test in cv)\n\u001b[0m\u001b[1;32m   1434\u001b[0m     \u001b[0;32mreturn\u001b[0m \u001b[0mnp\u001b[0m\u001b[0;34m.\u001b[0m\u001b[0marray\u001b[0m\u001b[0;34m(\u001b[0m\u001b[0mscores\u001b[0m\u001b[0;34m)\u001b[0m\u001b[0;34m[\u001b[0m\u001b[0;34m:\u001b[0m\u001b[0;34m,\u001b[0m \u001b[0;36m0\u001b[0m\u001b[0;34m]\u001b[0m\u001b[0;34m\u001b[0m\u001b[0m\n\u001b[1;32m   1435\u001b[0m \u001b[0;34m\u001b[0m\u001b[0m\n",
        "\u001b[0;32m/usr/local/lib/python3.4/dist-packages/sklearn/externals/joblib/parallel.py\u001b[0m in \u001b[0;36m__call__\u001b[0;34m(self, iterable)\u001b[0m\n\u001b[1;32m    808\u001b[0m                 \u001b[0;31m# consumption.\u001b[0m\u001b[0;34m\u001b[0m\u001b[0;34m\u001b[0m\u001b[0m\n\u001b[1;32m    809\u001b[0m                 \u001b[0mself\u001b[0m\u001b[0;34m.\u001b[0m\u001b[0m_iterating\u001b[0m \u001b[0;34m=\u001b[0m \u001b[0;32mFalse\u001b[0m\u001b[0;34m\u001b[0m\u001b[0m\n\u001b[0;32m--> 810\u001b[0;31m             \u001b[0mself\u001b[0m\u001b[0;34m.\u001b[0m\u001b[0mretrieve\u001b[0m\u001b[0;34m(\u001b[0m\u001b[0;34m)\u001b[0m\u001b[0;34m\u001b[0m\u001b[0m\n\u001b[0m\u001b[1;32m    811\u001b[0m             \u001b[0;31m# Make sure that we get a last message telling us we are done\u001b[0m\u001b[0;34m\u001b[0m\u001b[0;34m\u001b[0m\u001b[0m\n\u001b[1;32m    812\u001b[0m             \u001b[0melapsed_time\u001b[0m \u001b[0;34m=\u001b[0m \u001b[0mtime\u001b[0m\u001b[0;34m.\u001b[0m\u001b[0mtime\u001b[0m\u001b[0;34m(\u001b[0m\u001b[0;34m)\u001b[0m \u001b[0;34m-\u001b[0m \u001b[0mself\u001b[0m\u001b[0;34m.\u001b[0m\u001b[0m_start_time\u001b[0m\u001b[0;34m\u001b[0m\u001b[0m\n",
        "\u001b[0;32m/usr/local/lib/python3.4/dist-packages/sklearn/externals/joblib/parallel.py\u001b[0m in \u001b[0;36mretrieve\u001b[0;34m(self)\u001b[0m\n\u001b[1;32m    755\u001b[0m                     \u001b[0;31m# a working pool as they expect.\u001b[0m\u001b[0;34m\u001b[0m\u001b[0;34m\u001b[0m\u001b[0m\n\u001b[1;32m    756\u001b[0m                     \u001b[0mself\u001b[0m\u001b[0;34m.\u001b[0m\u001b[0m_initialize_pool\u001b[0m\u001b[0;34m(\u001b[0m\u001b[0;34m)\u001b[0m\u001b[0;34m\u001b[0m\u001b[0m\n\u001b[0;32m--> 757\u001b[0;31m                 \u001b[0;32mraise\u001b[0m \u001b[0mexception\u001b[0m\u001b[0;34m\u001b[0m\u001b[0m\n\u001b[0m\u001b[1;32m    758\u001b[0m \u001b[0;34m\u001b[0m\u001b[0m\n\u001b[1;32m    759\u001b[0m     \u001b[0;32mdef\u001b[0m \u001b[0m__call__\u001b[0m\u001b[0;34m(\u001b[0m\u001b[0mself\u001b[0m\u001b[0;34m,\u001b[0m \u001b[0miterable\u001b[0m\u001b[0;34m)\u001b[0m\u001b[0;34m:\u001b[0m\u001b[0;34m\u001b[0m\u001b[0m\n",
        "\u001b[0;32m/usr/local/lib/python3.4/dist-packages/sklearn/externals/joblib/parallel.py\u001b[0m in \u001b[0;36mretrieve\u001b[0;34m(self)\u001b[0m\n\u001b[1;32m    725\u001b[0m                 \u001b[0mjob\u001b[0m \u001b[0;34m=\u001b[0m \u001b[0mself\u001b[0m\u001b[0;34m.\u001b[0m\u001b[0m_jobs\u001b[0m\u001b[0;34m.\u001b[0m\u001b[0mpop\u001b[0m\u001b[0;34m(\u001b[0m\u001b[0;36m0\u001b[0m\u001b[0;34m)\u001b[0m\u001b[0;34m\u001b[0m\u001b[0m\n\u001b[1;32m    726\u001b[0m             \u001b[0;32mtry\u001b[0m\u001b[0;34m:\u001b[0m\u001b[0;34m\u001b[0m\u001b[0m\n\u001b[0;32m--> 727\u001b[0;31m                 \u001b[0mself\u001b[0m\u001b[0;34m.\u001b[0m\u001b[0m_output\u001b[0m\u001b[0;34m.\u001b[0m\u001b[0mextend\u001b[0m\u001b[0;34m(\u001b[0m\u001b[0mjob\u001b[0m\u001b[0;34m.\u001b[0m\u001b[0mget\u001b[0m\u001b[0;34m(\u001b[0m\u001b[0;34m)\u001b[0m\u001b[0;34m)\u001b[0m\u001b[0;34m\u001b[0m\u001b[0m\n\u001b[0m\u001b[1;32m    728\u001b[0m             \u001b[0;32mexcept\u001b[0m \u001b[0mtuple\u001b[0m\u001b[0;34m(\u001b[0m\u001b[0mself\u001b[0m\u001b[0;34m.\u001b[0m\u001b[0mexceptions\u001b[0m\u001b[0;34m)\u001b[0m \u001b[0;32mas\u001b[0m \u001b[0mexception\u001b[0m\u001b[0;34m:\u001b[0m\u001b[0;34m\u001b[0m\u001b[0m\n\u001b[1;32m    729\u001b[0m                 \u001b[0;31m# Stop dispatching any new job in the async callback thread\u001b[0m\u001b[0;34m\u001b[0m\u001b[0;34m\u001b[0m\u001b[0m\n",
        "\u001b[0;32m/usr/lib/python3.4/multiprocessing/pool.py\u001b[0m in \u001b[0;36mget\u001b[0;34m(self, timeout)\u001b[0m\n\u001b[1;32m    591\u001b[0m \u001b[0;34m\u001b[0m\u001b[0m\n\u001b[1;32m    592\u001b[0m     \u001b[0;32mdef\u001b[0m \u001b[0mget\u001b[0m\u001b[0;34m(\u001b[0m\u001b[0mself\u001b[0m\u001b[0;34m,\u001b[0m \u001b[0mtimeout\u001b[0m\u001b[0;34m=\u001b[0m\u001b[0;32mNone\u001b[0m\u001b[0;34m)\u001b[0m\u001b[0;34m:\u001b[0m\u001b[0;34m\u001b[0m\u001b[0m\n\u001b[0;32m--> 593\u001b[0;31m         \u001b[0mself\u001b[0m\u001b[0;34m.\u001b[0m\u001b[0mwait\u001b[0m\u001b[0;34m(\u001b[0m\u001b[0mtimeout\u001b[0m\u001b[0;34m)\u001b[0m\u001b[0;34m\u001b[0m\u001b[0m\n\u001b[0m\u001b[1;32m    594\u001b[0m         \u001b[0;32mif\u001b[0m \u001b[0;32mnot\u001b[0m \u001b[0mself\u001b[0m\u001b[0;34m.\u001b[0m\u001b[0mready\u001b[0m\u001b[0;34m(\u001b[0m\u001b[0;34m)\u001b[0m\u001b[0;34m:\u001b[0m\u001b[0;34m\u001b[0m\u001b[0m\n\u001b[1;32m    595\u001b[0m             \u001b[0;32mraise\u001b[0m \u001b[0mTimeoutError\u001b[0m\u001b[0;34m\u001b[0m\u001b[0m\n",
        "\u001b[0;32m/usr/lib/python3.4/multiprocessing/pool.py\u001b[0m in \u001b[0;36mwait\u001b[0;34m(self, timeout)\u001b[0m\n\u001b[1;32m    588\u001b[0m \u001b[0;34m\u001b[0m\u001b[0m\n\u001b[1;32m    589\u001b[0m     \u001b[0;32mdef\u001b[0m \u001b[0mwait\u001b[0m\u001b[0;34m(\u001b[0m\u001b[0mself\u001b[0m\u001b[0;34m,\u001b[0m \u001b[0mtimeout\u001b[0m\u001b[0;34m=\u001b[0m\u001b[0;32mNone\u001b[0m\u001b[0;34m)\u001b[0m\u001b[0;34m:\u001b[0m\u001b[0;34m\u001b[0m\u001b[0m\n\u001b[0;32m--> 590\u001b[0;31m         \u001b[0mself\u001b[0m\u001b[0;34m.\u001b[0m\u001b[0m_event\u001b[0m\u001b[0;34m.\u001b[0m\u001b[0mwait\u001b[0m\u001b[0;34m(\u001b[0m\u001b[0mtimeout\u001b[0m\u001b[0;34m)\u001b[0m\u001b[0;34m\u001b[0m\u001b[0m\n\u001b[0m\u001b[1;32m    591\u001b[0m \u001b[0;34m\u001b[0m\u001b[0m\n\u001b[1;32m    592\u001b[0m     \u001b[0;32mdef\u001b[0m \u001b[0mget\u001b[0m\u001b[0;34m(\u001b[0m\u001b[0mself\u001b[0m\u001b[0;34m,\u001b[0m \u001b[0mtimeout\u001b[0m\u001b[0;34m=\u001b[0m\u001b[0;32mNone\u001b[0m\u001b[0;34m)\u001b[0m\u001b[0;34m:\u001b[0m\u001b[0;34m\u001b[0m\u001b[0m\n",
        "\u001b[0;32m/usr/lib/python3.4/threading.py\u001b[0m in \u001b[0;36mwait\u001b[0;34m(self, timeout)\u001b[0m\n\u001b[1;32m    551\u001b[0m             \u001b[0msignaled\u001b[0m \u001b[0;34m=\u001b[0m \u001b[0mself\u001b[0m\u001b[0;34m.\u001b[0m\u001b[0m_flag\u001b[0m\u001b[0;34m\u001b[0m\u001b[0m\n\u001b[1;32m    552\u001b[0m             \u001b[0;32mif\u001b[0m \u001b[0;32mnot\u001b[0m \u001b[0msignaled\u001b[0m\u001b[0;34m:\u001b[0m\u001b[0;34m\u001b[0m\u001b[0m\n\u001b[0;32m--> 553\u001b[0;31m                 \u001b[0msignaled\u001b[0m \u001b[0;34m=\u001b[0m \u001b[0mself\u001b[0m\u001b[0;34m.\u001b[0m\u001b[0m_cond\u001b[0m\u001b[0;34m.\u001b[0m\u001b[0mwait\u001b[0m\u001b[0;34m(\u001b[0m\u001b[0mtimeout\u001b[0m\u001b[0;34m)\u001b[0m\u001b[0;34m\u001b[0m\u001b[0m\n\u001b[0m\u001b[1;32m    554\u001b[0m             \u001b[0;32mreturn\u001b[0m \u001b[0msignaled\u001b[0m\u001b[0;34m\u001b[0m\u001b[0m\n\u001b[1;32m    555\u001b[0m         \u001b[0;32mfinally\u001b[0m\u001b[0;34m:\u001b[0m\u001b[0;34m\u001b[0m\u001b[0m\n",
        "\u001b[0;32m/usr/lib/python3.4/threading.py\u001b[0m in \u001b[0;36mwait\u001b[0;34m(self, timeout)\u001b[0m\n\u001b[1;32m    288\u001b[0m         \u001b[0;32mtry\u001b[0m\u001b[0;34m:\u001b[0m    \u001b[0;31m# restore state no matter what (e.g., KeyboardInterrupt)\u001b[0m\u001b[0;34m\u001b[0m\u001b[0m\n\u001b[1;32m    289\u001b[0m             \u001b[0;32mif\u001b[0m \u001b[0mtimeout\u001b[0m \u001b[0;32mis\u001b[0m \u001b[0;32mNone\u001b[0m\u001b[0;34m:\u001b[0m\u001b[0;34m\u001b[0m\u001b[0m\n\u001b[0;32m--> 290\u001b[0;31m                 \u001b[0mwaiter\u001b[0m\u001b[0;34m.\u001b[0m\u001b[0macquire\u001b[0m\u001b[0;34m(\u001b[0m\u001b[0;34m)\u001b[0m\u001b[0;34m\u001b[0m\u001b[0m\n\u001b[0m\u001b[1;32m    291\u001b[0m                 \u001b[0mgotit\u001b[0m \u001b[0;34m=\u001b[0m \u001b[0;32mTrue\u001b[0m\u001b[0;34m\u001b[0m\u001b[0m\n\u001b[1;32m    292\u001b[0m             \u001b[0;32melse\u001b[0m\u001b[0;34m:\u001b[0m\u001b[0;34m\u001b[0m\u001b[0m\n",
        "\u001b[0;31mKeyboardInterrupt\u001b[0m: "
       ]
      }
     ],
     "prompt_number": 7
    },
    {
     "cell_type": "code",
     "collapsed": false,
     "input": [
      "#Cross-validation stability\n",
      "print (runResult)"
     ],
     "language": "python",
     "metadata": {},
     "outputs": [
      {
       "output_type": "stream",
       "stream": "stdout",
       "text": [
        "[[[[array([ 0.66666667,  0.8       ,  0.8       ,  1.        ,  1.        ])\n",
        "    array([ 0.83333333,  0.8       ,  1.        ,  1.        ,  0.8       ])\n",
        "    array([ 0.33333333,  0.8       ,  0.6       ,  0.6       ,  0.8       ])]\n",
        "   [ array([ 0.66666667,  1.        ,  0.66666667,  1.        ,  0.66666667,\n",
        "        1.        ,  1.        ,  0.5       ,  1.        ,  1.        ])\n",
        "    array([ 0.66666667,  1.        ,  0.66666667,  1.        ,  0.66666667,\n",
        "        1.        ,  1.        ,  1.        ,  0.        ,  1.        ])\n",
        "    array([ 0.33333333,  0.66666667,  0.66666667,  0.66666667,  0.66666667,\n",
        "        0.66666667,  0.5       ,  1.        ,  0.5       ,  1.        ])]]\n",
        "\n",
        "  [[array([ 0.83333333,  1.        ,  1.        ,  0.6       ,  0.8       ])\n",
        "    array([ 0.66666667,  0.4       ,  1.        ,  0.8       ,  0.8       ])\n",
        "    array([ 0.66666667,  0.8       ,  1.        ,  0.8       ,  0.6       ])]\n",
        "   [array([ 1.,  1.,  1.,  1.,  1.,  1.,  1.,  1.,  1.,  1.])\n",
        "    array([ 1.        ,  0.66666667,  1.        ,  1.        ,  1.        ,\n",
        "        1.        ,  1.        ,  1.        ,  0.5       ,  0.5       ])\n",
        "    array([ 0.66666667,  0.66666667,  0.66666667,  1.        ,  1.        ,\n",
        "        0.33333333,  0.5       ,  1.        ,  0.5       ,  0.        ])]]]\n",
        "\n",
        "\n",
        " [[[array([ 0.85714286,  0.71428571,  1.        ,  1.        ,  0.84615385])\n",
        "    array([ 1.        ,  0.78571429,  0.84615385,  1.        ,  1.        ])\n",
        "    array([ 0.85714286,  0.71428571,  0.76923077,  0.76923077,  0.38461538])]\n",
        "   [ array([ 0.85714286,  0.85714286,  0.57142857,  0.57142857,  0.85714286,\n",
        "        1.        ,  1.        ,  0.83333333,  1.        ,  0.83333333])\n",
        "    array([ 1.        ,  1.        ,  0.71428571,  0.85714286,  0.85714286,\n",
        "        1.        ,  1.        ,  1.        ,  1.        ,  0.83333333])\n",
        "    array([ 1.        ,  0.85714286,  0.71428571,  0.71428571,  0.71428571,\n",
        "        0.85714286,  0.85714286,  1.        ,  0.83333333,  0.66666667])]]\n",
        "\n",
        "  [[array([ 0.71428571,  0.85714286,  0.92307692,  1.        ,  0.92307692])\n",
        "    array([ 0.85714286,  0.78571429,  1.        ,  0.92307692,  0.76923077])\n",
        "    array([ 0.85714286,  0.78571429,  0.84615385,  0.92307692,  0.61538462])]\n",
        "   [ array([ 0.71428571,  0.85714286,  0.85714286,  1.        ,  1.        ,\n",
        "        0.85714286,  1.        ,  1.        ,  0.83333333,  0.83333333])\n",
        "    array([ 0.85714286,  0.85714286,  0.85714286,  0.71428571,  1.        ,\n",
        "        1.        ,  0.85714286,  1.        ,  1.        ,  0.83333333])\n",
        "    array([ 0.71428571,  1.        ,  0.85714286,  0.71428571,  0.85714286,\n",
        "        1.        ,  0.71428571,  0.83333333,  0.83333333,  0.5       ])]]]\n",
        "\n",
        "\n",
        " [[[array([ 0.90909091,  0.90909091,  0.9047619 ,  0.9047619 ,  0.95238095])\n",
        "    array([ 0.90909091,  0.95454545,  1.        ,  0.85714286,  0.95238095])\n",
        "    array([ 0.68181818,  0.95454545,  0.80952381,  0.76190476,  0.85714286])]\n",
        "   [ array([ 0.90909091,  1.        ,  0.90909091,  0.90909091,  0.90909091,\n",
        "        0.90909091,  0.90909091,  0.9       ,  0.9       ,  1.        ])\n",
        "    array([ 0.90909091,  0.90909091,  1.        ,  0.90909091,  1.        ,\n",
        "        1.        ,  0.90909091,  0.7       ,  0.9       ,  1.        ])\n",
        "    array([ 0.63636364,  0.72727273,  1.        ,  0.81818182,  1.        ,\n",
        "        0.90909091,  0.81818182,  0.7       ,  0.9       ,  1.        ])]]\n",
        "\n",
        "  [[array([ 0.86363636,  0.90909091,  0.80952381,  0.95238095,  0.85714286])\n",
        "    array([ 0.90909091,  0.95454545,  0.9047619 ,  0.95238095,  0.9047619 ])\n",
        "    array([ 0.86363636,  0.72727273,  0.80952381,  0.95238095,  0.57142857])]\n",
        "   [ array([ 0.90909091,  0.90909091,  0.90909091,  0.90909091,  0.81818182,\n",
        "        0.90909091,  0.90909091,  0.9       ,  0.8       ,  0.8       ])\n",
        "    array([ 0.90909091,  0.90909091,  0.90909091,  0.90909091,  0.81818182,\n",
        "        1.        ,  0.90909091,  0.9       ,  0.9       ,  1.        ])\n",
        "    array([ 0.90909091,  0.90909091,  0.81818182,  0.72727273,  0.72727273,\n",
        "        0.81818182,  0.90909091,  0.9       ,  0.5       ,  0.8       ])]]]\n",
        "\n",
        "\n",
        " [[[array([ 0.74074074,  1.        ,  0.92592593,  1.        ,  0.92307692])\n",
        "    array([ 0.77777778,  1.        ,  0.92592593,  1.        ,  0.92307692])\n",
        "    array([ 0.62962963,  0.77777778,  0.7037037 ,  0.69230769,  0.69230769])]\n",
        "   [ array([ 0.71428571,  0.85714286,  1.        ,  1.        ,  1.        ,\n",
        "        0.92307692,  1.        ,  1.        ,  0.84615385,  0.92307692])\n",
        "    array([ 0.78571429,  1.        ,  1.        ,  1.        ,  0.92307692,\n",
        "        0.92307692,  1.        ,  1.        ,  0.84615385,  1.        ])\n",
        "    array([ 0.85714286,  0.78571429,  0.71428571,  1.        ,  0.69230769,\n",
        "        0.92307692,  0.76923077,  0.84615385,  0.53846154,  0.92307692])]]\n",
        "\n",
        "  [[array([ 0.88888889,  0.88888889,  1.        ,  0.92307692,  0.92307692])\n",
        "    array([ 0.92592593,  0.92592593,  0.88888889,  0.96153846,  0.88461538])\n",
        "    array([ 0.81481481,  0.7037037 ,  0.88888889,  0.73076923,  0.73076923])]\n",
        "   [ array([ 0.92857143,  0.85714286,  0.92857143,  0.92307692,  1.        ,\n",
        "        1.        ,  1.        ,  0.92307692,  1.        ,  0.92307692])\n",
        "    array([ 0.85714286,  0.85714286,  0.92857143,  1.        ,  0.92307692,\n",
        "        0.84615385,  1.        ,  0.92307692,  1.        ,  0.92307692])\n",
        "    array([ 0.92857143,  0.85714286,  0.92857143,  0.76923077,  0.76923077,\n",
        "        0.92307692,  0.92307692,  0.69230769,  0.76923077,  0.84615385])]]]]\n"
       ]
      }
     ],
     "prompt_number": 7
    },
    {
     "cell_type": "code",
     "collapsed": false,
     "input": [
      "#Testing\n"
     ],
     "language": "python",
     "metadata": {},
     "outputs": [],
     "prompt_number": 189
    },
    {
     "cell_type": "code",
     "collapsed": false,
     "input": [
      "a=np.array([[1,3,0],[1,2,3]])\n",
      "classes = np.array([1,1,0,0])\n",
      "print (np.sum(a, axis=0))"
     ],
     "language": "python",
     "metadata": {},
     "outputs": [
      {
       "output_type": "stream",
       "stream": "stdout",
       "text": [
        "[2 5 3]\n"
       ]
      }
     ],
     "prompt_number": 172
    }
   ],
   "metadata": {}
  }
 ]
}