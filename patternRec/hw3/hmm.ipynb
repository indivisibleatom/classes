{
 "metadata": {
  "name": ""
 },
 "nbformat": 3,
 "nbformat_minor": 0,
 "worksheets": [
  {
   "cells": [
    {
     "cell_type": "code",
     "collapsed": false,
     "input": [
      "%load_ext autoreload\n",
      "%autoreload 2\n",
      "%matplotlib inline\n",
      "%reset -f"
     ],
     "language": "python",
     "metadata": {},
     "outputs": [],
     "prompt_number": 1
    },
    {
     "cell_type": "code",
     "collapsed": false,
     "input": [
      "import numpy as np\n",
      "import matplotlib.pyplot as plt\n",
      "import pandas\n",
      "\n",
      "import helpers\n",
      "import dataSetManager\n",
      "from hmmModel import HMMModel"
     ],
     "language": "python",
     "metadata": {},
     "outputs": [],
     "prompt_number": 48
    },
    {
     "cell_type": "code",
     "collapsed": false,
     "input": [
      "dm = dataSetManager.RobotDatasetManager()\n",
      "\n",
      "hmmModel = HMMModel()\n",
      "hmmModel.fit(dm.trainingData)"
     ],
     "language": "python",
     "metadata": {},
     "outputs": [],
     "prompt_number": 218
    },
    {
     "cell_type": "code",
     "collapsed": false,
     "input": [
      "helpers.plotLatticeStackedProbabilities(hmmModel.observationP, hmmModel.observationSymbols+('k',))\n",
      "plt.show()"
     ],
     "language": "python",
     "metadata": {},
     "outputs": [
      {
       "metadata": {},
       "output_type": "display_data",
       "png": "[encoded data removed]",
       "text": [
        "<matplotlib.figure.Figure at 0x7f7d1c3587f0>"
       ]
      }
     ],
     "prompt_number": 219
    },
    {
     "cell_type": "code",
     "collapsed": false,
     "input": [
      "#Testing\n",
      "indicesX, indicesY = np.arange(0,4), np.arange(0,4)\n",
      "for x in zip(np.repeat(indicesX, 4).reshape(4,4), np.tile(indicesY,4).reshape(4,4)):\n",
      "    print (x)"
     ],
     "language": "python",
     "metadata": {},
     "outputs": [
      {
       "output_type": "stream",
       "stream": "stdout",
       "text": [
        "(array([0, 0, 0, 0]), array([0, 1, 2, 3]))\n",
        "(array([1, 1, 1, 1]), array([0, 1, 2, 3]))\n",
        "(array([2, 2, 2, 2]), array([0, 1, 2, 3]))\n",
        "(array([3, 3, 3, 3]), array([0, 1, 2, 3]))\n"
       ]
      }
     ],
     "prompt_number": 123
    },
    {
     "cell_type": "code",
     "collapsed": false,
     "input": [
      "print(hmmModel.observationP)\n",
      "hmmModel.observationP[(0,0)]\n",
      "#tuple(np.asarray(index)*np.asarray((1,1))/np.asarray((2,2))) + (1,1)"
     ],
     "language": "python",
     "metadata": {},
     "outputs": [
      {
       "output_type": "stream",
       "stream": "stdout",
       "text": [
        "[[[ 0.          0.9259887   0.02609727  0.        ]\n",
        "  [ 0.02337229  0.          0.02170725  0.92726737]\n",
        "  [ 0.02520479  0.02301635  0.91686747  0.02268101]\n",
        "  [ 0.02068127  0.02658789  0.          0.02307692]]\n",
        "\n",
        " [[ 0.          0.02570621  0.91666667  0.        ]\n",
        "  [ 0.9312187   0.          0.02552068  0.02267373]\n",
        "  [ 0.02362949  0.92792247  0.02981928  0.02500727]\n",
        "  [ 0.02493917  0.02097489  0.          0.02928994]]\n",
        "\n",
        " [[ 0.          0.02542373  0.02580071  0.        ]\n",
        "  [ 0.02337229  0.          0.92343796  0.02738516]\n",
        "  [ 0.02678009  0.02422774  0.02620482  0.02704274]\n",
        "  [ 0.92548662  0.02658789  0.          0.92514793]]\n",
        "\n",
        " [[ 0.          0.02288136  0.03143535  0.        ]\n",
        "  [ 0.02203673  0.          0.02933412  0.02267373]\n",
        "  [ 0.92438563  0.02483343  0.02710843  0.92526897]\n",
        "  [ 0.02889294  0.92584934  0.          0.02248521]]]\n"
       ]
      },
      {
       "metadata": {},
       "output_type": "pyout",
       "prompt_number": 151,
       "text": [
        "array([ 0.        ,  0.9259887 ,  0.02609727,  0.        ])"
       ]
      }
     ],
     "prompt_number": 151
    }
   ],
   "metadata": {}
  }
 ]
}