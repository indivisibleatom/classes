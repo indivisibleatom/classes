{
 "metadata": {
  "name": ""
 },
 "nbformat": 3,
 "nbformat_minor": 0,
 "worksheets": [
  {
   "cells": [
    {
     "cell_type": "code",
     "collapsed": false,
     "input": [
      "%load_ext autoreload\n",
      "%autoreload 2\n",
      "%matplotlib inline\n",
      "%reset -f"
     ],
     "language": "python",
     "metadata": {},
     "outputs": [],
     "prompt_number": 1
    },
    {
     "cell_type": "code",
     "collapsed": false,
     "input": [
      "import numpy as np\n",
      "import matplotlib.pyplot as plt\n",
      "import pandas\n",
      "import sklearn.cross_validation as cv\n",
      "import helpers\n",
      "import dataSetManager\n",
      "from KNNClassifier import KNNClassifier"
     ],
     "language": "python",
     "metadata": {},
     "outputs": [],
     "prompt_number": 16
    },
    {
     "cell_type": "code",
     "collapsed": false,
     "input": [
      "#Train\n",
      "P = [0.2, 0.5, 0.8, 1] #How much of training to sample for cross validation\n",
      "#TSSCardinality = 5 #Number of training sets to create\n",
      "#N = [2, 5, 10, 0] #how many fold cross validation : 0 - leave one out\n",
      "#K = [1, 3, 5, 10, 20]\n",
      "TSSCardinality = 2 #Number of training sets to create\n",
      "N = [5, 10] #how many fold cross validation : 0 - leave one out\n",
      "K = [1, 3, 5]\n",
      "\n",
      "#P = [0.2] #How much of training to sample for cross validation\n",
      "#TSSCardinality = 1 #Number of training sets to create\n",
      "#N = [2] #how many fold cross validation : 0 - leave one out\n",
      "#K = [2]\n",
      "\n",
      "dm = dataSetManager.WineDatasetManager()\n",
      "dm.populateTrainTest(0.8)\n",
      "\n",
      "#Cross-validations\n",
      "runResult = np.zeros((len(P), TSSCardinality, len(N), len(K)), dtype=np.ndarray)\n",
      "for a in np.arange(len(P)):\n",
      "    for b in np.arange(TSSCardinality):\n",
      "        ts = helpers.sample(dm.trainingData, dm.labelColumn, P[a], False) #Sample without replacement\n",
      "        ts = ts.reindex(np.random.permutation(ts.index))\n",
      "        cvX = ts.drop(dm.labelColumn, axis=1).as_matrix()\n",
      "        cvy = ts[dm.labelColumn].as_matrix()\n",
      "        classes, classIndices = np.unique(cvy, return_inverse=True)\n",
      "        modifiedK = [element for element in K if element < np.bincount(classIndices).min()]\n",
      "        for c in np.arange(len(N)):\n",
      "            for d in np.arange(len(modifiedK)): ## TODO msati3: Parallelize\n",
      "                classifier = KNNClassifier(modifiedK[d])\n",
      "                nfolds = helpers.getCrossValidationIterator(ts.shape[0], N[c])\n",
      "                runResult[a,b,c,d] = np.array(cv.cross_val_score(classifier, cvX, y=cvy, cv=nfolds, n_jobs=-1))"
     ],
     "language": "python",
     "metadata": {},
     "outputs": [],
     "prompt_number": 18
    },
    {
     "cell_type": "code",
     "collapsed": false,
     "input": [
      "#Cross-validation stability\n",
      "averageError = np.average(runResult)"
     ],
     "language": "python",
     "metadata": {},
     "outputs": [],
     "prompt_number": 15
    },
    {
     "cell_type": "code",
     "collapsed": false,
     "input": [
      "#Best k eyeball\n",
      "axes = plt.subplot()\n",
      "axes.boxplot(runResult[0,:,0,0])\n",
      "plt.show()"
     ],
     "language": "python",
     "metadata": {},
     "outputs": [
      {
       "metadata": {},
       "output_type": "display_data",
       "png": "[encoded data removed]",
       "text": [
        "<matplotlib.figure.Figure at 0x7fe38f53ce10>"
       ]
      }
     ],
     "prompt_number": 14
    },
    {
     "cell_type": "code",
     "collapsed": false,
     "input": [
      "#Testing\n"
     ],
     "language": "python",
     "metadata": {},
     "outputs": [],
     "prompt_number": 189
    },
    {
     "cell_type": "code",
     "collapsed": false,
     "input": [
      "a=np.array([[1,3,0],[1,2,3]])\n",
      "classes = np.array([1,1,0,0])\n",
      "print (np.sum(a, axis=0))"
     ],
     "language": "python",
     "metadata": {},
     "outputs": [
      {
       "output_type": "stream",
       "stream": "stdout",
       "text": [
        "[2 5 3]\n"
       ]
      }
     ],
     "prompt_number": 172
    }
   ],
   "metadata": {}
  }
 ]
}