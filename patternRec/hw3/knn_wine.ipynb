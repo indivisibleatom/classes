{
 "metadata": {
  "name": ""
 },
 "nbformat": 3,
 "nbformat_minor": 0,
 "worksheets": [
  {
   "cells": [
    {
     "cell_type": "code",
     "collapsed": false,
     "input": [
      "%load_ext autoreload\n",
      "%autoreload 2\n",
      "%matplotlib inline\n",
      "%reset -f"
     ],
     "language": "python",
     "metadata": {},
     "outputs": [],
     "prompt_number": 1
    },
    {
     "cell_type": "code",
     "collapsed": false,
     "input": [
      "import numpy as np\n",
      "import matplotlib.pyplot as plt\n",
      "import pandas\n",
      "import sklearn.cross_validation as cv\n",
      "import helpers\n",
      "import dataSetManager\n",
      "from KNNClassifier import KNNClassifier"
     ],
     "language": "python",
     "metadata": {},
     "outputs": [],
     "prompt_number": 27
    },
    {
     "cell_type": "code",
     "collapsed": false,
     "input": [
      "#Train\n",
      "P = [0.2, 0.5, 0.8, 1] #How much of training to sample for cross validation\n",
      "TSSCardinality = 5 #Number of training sets to create\n",
      "N = [2, 5, 10] #how many fold cross validation : 0 - leave one out\n",
      "K = [1, 3, 5, 10]\n",
      "dm = dataSetManager.WineDatasetManager()\n",
      "dm.populateTrainTest(0.8)\n",
      "\n",
      "#Cross-validations\n",
      "runResult = np.zeros((len(P), TSSCardinality, len(N), len(K)), dtype=np.ndarray)\n",
      "runAverages = np.zeros((len(P), TSSCardinality, len(N), len(K)))\n",
      "for a in np.arange(len(P)):\n",
      "    for b in np.arange(TSSCardinality):\n",
      "        ts = helpers.sample(dm.trainingData, dm.labelColumn, P[a], False) #Sample without replacement\n",
      "        ts = ts.reindex(np.random.permutation(ts.index))\n",
      "        cvX = ts.drop(dm.labelColumn, axis=1).as_matrix()\n",
      "        cvy = ts[dm.labelColumn].as_matrix()\n",
      "        classes, classIndices = np.unique(cvy, return_inverse=True)\n",
      "        for c in np.arange(len(N)):\n",
      "            modifiedK = [element for element in K if element < (np.bincount(classIndices).min()*((N[c]-1)/(4*N[c])))]\n",
      "            for d in np.arange(len(modifiedK)): ## TODO msati3: Parallelize\n",
      "                classifier = KNNClassifier(modifiedK[d])\n",
      "                nfolds = helpers.getCrossValidationIterator(ts.shape[0], N[c])\n",
      "                scores = np.array(cv.cross_val_score(classifier, cvX, y=cvy, cv=nfolds, n_jobs=-1))\n",
      "                runResult[a,b,c,d] = scores\n",
      "                runAverages[a,b,c,d] = np.average(scores)"
     ],
     "language": "python",
     "metadata": {},
     "outputs": [],
     "prompt_number": "*"
    },
    {
     "cell_type": "code",
     "collapsed": false,
     "input": [
      "#Test for variation within same TS size\n",
      "variance = np.var(runAverages, axis=1)\n",
      "print(\"Max variation with same TS size = \", np.max(variance))"
     ],
     "language": "python",
     "metadata": {},
     "outputs": [
      {
       "output_type": "stream",
       "stream": "stdout",
       "text": [
        "Max variation with same TS size =  0.0166133317232\n"
       ]
      }
     ],
     "prompt_number": 199
    },
    {
     "cell_type": "code",
     "collapsed": false,
     "input": [
      "#Test variances along different axis and eyeball K\n",
      "fig = plt.figure()\n",
      "averageScores = np.average(runResult, axis=1)\n",
      "xIncrement = 1\n",
      "yIncrement = 1/averageScores.shape[1]\n",
      "k = 1\n",
      "ax = fig.add_axes((0, 0, 1, 1))\n",
      "ax.set_ylim(0.65,0.95)\n",
      "ax.set_title(\"Values for k = %d\" %(K[k]))\n",
      "xticks = ['TD=20%', 'TD=50%', 'TD=80%', 'TD=100%']\n",
      "ax.set_xticks([0.1,0.35,0.58,0.83])\n",
      "ax.set_xticklabels(xticks)\n",
      "for i in np.arange(averageScores.shape[0]):\n",
      "    for j in np.arange(averageScores.shape[1]):\n",
      "        xlocation = (i*xIncrement + j*yIncrement*0.6)/averageScores.shape[0]\n",
      "        ax = fig.add_axes((xlocation, 0, 0.6*yIncrement/averageScores.shape[0], 1))\n",
      "        ax.boxplot([averageScores[i,j,k]], widths=0.1)\n",
      "        ax.set_ylim(0.65,0.95)\n",
      "        ax.get_xaxis().set_visible(False)\n",
      "        ax.get_yaxis().set_visible(False)\n",
      "plt.show()"
     ],
     "language": "python",
     "metadata": {},
     "outputs": [
      {
       "metadata": {},
       "output_type": "display_data",
       "png": "[encoded data removed]",
       "text": [
        "<matplotlib.figure.Figure at 0x7fe38d5d0080>"
       ]
      }
     ],
     "prompt_number": 276
    },
    {
     "cell_type": "code",
     "collapsed": false,
     "input": [
      "#Testing\n",
      "finalClassifier = KNNClassifier(3)\n",
      "finalClassifier.fit(dm.trainingData.drop(dm.labelColumn, axis=1).as_matrix(), dm.trainingData[dm.labelColumn].as_matrix())\n",
      "testScore = finalClassifier.score(dm.testingData.drop(dm.labelColumn, axis=1).as_matrix(), \n",
      "                                  dm.testingData[dm.labelColumn].as_matrix())"
     ],
     "language": "python",
     "metadata": {},
     "outputs": [],
     "prompt_number": 278
    },
    {
     "cell_type": "code",
     "collapsed": false,
     "input": [
      "print(testScore)\n",
      "print(averageScores[3,:,1])"
     ],
     "language": "python",
     "metadata": {},
     "outputs": [
      {
       "output_type": "stream",
       "stream": "stdout",
       "text": [
        "0.911111111111\n",
        "[array([ 0.91940299,  0.91818182]) 0.0 0.0]\n"
       ]
      }
     ],
     "prompt_number": 293
    }
   ],
   "metadata": {}
  }
 ]
}