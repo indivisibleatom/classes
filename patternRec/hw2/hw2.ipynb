{
 "metadata": {
  "name": ""
 },
 "nbformat": 3,
 "nbformat_minor": 0,
 "worksheets": [
  {
   "cells": [
    {
     "cell_type": "code",
     "collapsed": false,
     "input": [
      "%load_ext autoreload\n",
      "%autoreload 2"
     ],
     "language": "python",
     "metadata": {},
     "outputs": [
      {
       "output_type": "stream",
       "stream": "stdout",
       "text": [
        "The autoreload extension is already loaded. To reload it, use:\n",
        "  %reload_ext autoreload\n"
       ]
      }
     ],
     "prompt_number": 214
    },
    {
     "cell_type": "code",
     "collapsed": false,
     "input": [
      "%reset -f\n",
      "import numpy as np\n",
      "from sklearn import tree\n",
      "import dataSetManager as dm\n",
      "from randomForest import RandomForest\n",
      "import helpers\n",
      "\n",
      "numTrees = 1\n",
      "\n",
      "wdm = dm.WineDatasetManager()\n",
      "wdm.splitTrainTest(0.75)\n",
      "forest = RandomForest(1)\n",
      "forest.train(wdm.trainingData.drop('Lab', axis=1), wdm.trainingData['Lab'])\n",
      "print(helpers.computeClassificationError(forest.predict(wdm.testingData.drop('Lab', axis=1)),\n",
      "                                         wdm.testingData['Lab'].values))\n"
     ],
     "language": "python",
     "metadata": {},
     "outputs": [
      {
       "output_type": "stream",
       "stream": "stdout",
       "text": [
        "[ 0.93181818]\n"
       ]
      }
     ],
     "prompt_number": 287
    },
    {
     "cell_type": "code",
     "collapsed": false,
     "input": [
      "#clf = tree.DecisionTreeClassifier()\n",
      "#clf = clf.fit(wdm.trainingData.drop('Lab', axis=1), wdm.trainingData['Lab'])\n",
      "#print (clf.predict(wdm.testingData.drop('Lab', axis=1)))\n",
      "#print (wdm.testingData['Lab'].name)\n",
      "print(len(np.array([[1,0],[2,3]]).shape))"
     ],
     "language": "python",
     "metadata": {},
     "outputs": [
      {
       "output_type": "stream",
       "stream": "stdout",
       "text": [
        "2\n"
       ]
      }
     ],
     "prompt_number": 276
    }
   ],
   "metadata": {}
  }
 ]
}