{
 "metadata": {
  "name": ""
 },
 "nbformat": 3,
 "nbformat_minor": 0,
 "worksheets": [
  {
   "cells": [
    {
     "cell_type": "code",
     "collapsed": false,
     "input": [
      "%load_ext autoreload\n",
      "%autoreload 2"
     ],
     "language": "python",
     "metadata": {},
     "outputs": [],
     "prompt_number": 80
    },
    {
     "cell_type": "code",
     "collapsed": false,
     "input": [
      "%reset -f\n",
      "import dataSetManager as dm\n",
      "import numpy as np\n",
      "\n",
      "wdm = dm.WineDatasetManager()\n",
      "wdm.splitTrainTest(0.75)\n",
      "print( wdm.trainingData.shape, wdm.testingData.shape, wdm.data.shape )"
     ],
     "language": "python",
     "metadata": {},
     "outputs": [
      {
       "output_type": "stream",
       "stream": "stdout",
       "text": [
        "(134, 14) (44, 14) (178, 14)\n"
       ]
      }
     ],
     "prompt_number": 87
    },
    {
     "cell_type": "code",
     "collapsed": false,
     "input": [
      "labels = dm.WineDatasetManager.loadedData['Lab'].unique()\n",
      "group = dm.WineDatasetManager.loadedData.groupby('Lab')\n",
      "training = dm.WineDatasetManager.loadedData.sample(frac=0.75)\n",
      "testing = dm.WineDatasetManager.loadedData.drop(training.index)\n",
      "print( training.shape, testing.shape, dm.WineDatasetManager.loadedData.shape )"
     ],
     "language": "python",
     "metadata": {},
     "outputs": []
    }
   ],
   "metadata": {}
  }
 ]
}