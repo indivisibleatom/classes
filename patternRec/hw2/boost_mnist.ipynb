{
 "metadata": {
  "name": ""
 },
 "nbformat": 3,
 "nbformat_minor": 0,
 "worksheets": [
  {
   "cells": [
    {
     "cell_type": "code",
     "collapsed": false,
     "input": [
      "%load_ext autoreload\n",
      "%autoreload 2\n",
      "%matplotlib inline\n",
      "%reset -f"
     ],
     "language": "python",
     "metadata": {},
     "outputs": [
      {
       "output_type": "stream",
       "stream": "stdout",
       "text": [
        "The autoreload extension is already loaded. To reload it, use:\n",
        "  %reload_ext autoreload\n"
       ]
      }
     ],
     "prompt_number": 613
    },
    {
     "cell_type": "code",
     "collapsed": false,
     "input": [
      "import numpy as np\n",
      "from sklearn import tree\n",
      "import dataSetManager\n",
      "from randomForest import RandomForest\n",
      "import helpers\n",
      "import matplotlib.pyplot as plt\n",
      "import pandas\n",
      "from sklearn.decomposition import PCA"
     ],
     "language": "python",
     "metadata": {},
     "outputs": [],
     "prompt_number": 614
    },
    {
     "cell_type": "code",
     "collapsed": false,
     "input": [
      "#Random forest experiments basefunction\n",
      "def trainForest(numTrees, maxDepth, trainingData, trainingLabels):\n",
      "    forest = RandomForest(numTrees, maxDepth)\n",
      "    forest.trainBoosted(trainingData, trainingLabels)\n",
      "    return forest\n",
      "    \n",
      "def analyseForest(forest, trainingData, testingData):\n",
      "    return {'training' : forest.predictBoosted(trainingData),\n",
      "            'testing' : forest.predictBoosted(testingData) }"
     ],
     "language": "python",
     "metadata": {},
     "outputs": [],
     "prompt_number": 615
    },
    {
     "cell_type": "code",
     "collapsed": false,
     "input": [
      "#Train\n",
      "treeMaxDepths = [1,10]\n",
      "numIterations = [1,5,10,40,80,100,150,200,400,800]\n",
      "typesOfTests = ['training', 'testing']\n",
      "typesOfTestsTitles = ['Training', 'Testing']\n",
      "\n",
      "dm = dataSetManager.MNISTDatasetManager()\n",
      "dm.populateTrainTest()"
     ],
     "language": "python",
     "metadata": {},
     "outputs": [],
     "prompt_number": 616
    },
    {
     "cell_type": "code",
     "collapsed": false,
     "input": [
      "pca = PCA(n_components = 0.9)\n",
      "reducedDimTrainData = pandas.DataFrame(pca.fit_transform(dm.trainingData.drop(dm.labelColumn, axis=1)))\n",
      "reducedDimTestData = pandas.DataFrame(pca.transform(dm.testingData.drop(dm.labelColumn, axis=1)))"
     ],
     "language": "python",
     "metadata": {},
     "outputs": [],
     "prompt_number": "*"
    },
    {
     "cell_type": "code",
     "collapsed": false,
     "input": [
      "numRepeats = 1\n",
      "classificationResults = []\n",
      "for treeMaxDepth in treeMaxDepths:\n",
      "    for numIteration in numIterations:\n",
      "        for numRepeat in np.arange(numRepeats):\n",
      "            classificationResults.append({'depth':treeMaxDepth, 'numTrees':numIteration, \n",
      "                                          'trainedForest': trainForest(numIteration, treeMaxDepth, \n",
      "                                          reducedDimTrainData, dm.trainingData[dm.labelColumn])})"
     ],
     "language": "python",
     "metadata": {},
     "outputs": [],
     "prompt_number": "*"
    },
    {
     "cell_type": "code",
     "collapsed": false,
     "input": [
      "#Analyse\n",
      "predictionDatas = []\n",
      "for classificationResult in classificationResults:\n",
      "    predictionDatas.append({'predictions': analyseForest(classificationResult['trainedForest'], \n",
      "                                           reducedDimTrainData, reducedDimTestData),\n",
      "                           'depth': classificationResult['depth'],\n",
      "                           'numTrees': classificationResult['numTrees']})"
     ],
     "language": "python",
     "metadata": {},
     "outputs": [],
     "prompt_number": "*"
    },
    {
     "cell_type": "code",
     "collapsed": false,
     "input": [
      "#Print results\n",
      "classificationErrors = np.ndarray(shape=(len(treeMaxDepths),len(numIterations),len(typesOfTests)), dtype=float) \n",
      "numUnique = len(pandas.unique(dm.testingData[dm.labelColumn]))\n",
      "classes = pandas.unique(dm.testingData[dm.labelColumn])\n",
      "confusionMatrices = np.ndarray(shape=(len(treeMaxDepths),len(numIterations),len(typesOfTests), \n",
      "                                    numUnique, numUnique), dtype=float)\n",
      "\n",
      "for predictionData in predictionDatas:\n",
      "    for key, value in predictionData['predictions'].items():\n",
      "        groundTruth = dm.testingData[dm.labelColumn] if key == 'testing' else dm.trainingData[dm.labelColumn]\n",
      "        groundTruth = groundTruth.astype(int).values\n",
      "        predictionResult = classes[value].astype(int)\n",
      "        print(predictionResult, groundTruth)\n",
      "        classificationErrors[treeMaxDepths.index(predictionData['depth']), numIterations.index(predictionData['numTrees']),\n",
      "                            typesOfTests.index(key)] = helpers.computeClassificationError(\n",
      "                                                      groundTruth, predictionResult)\n",
      "        confusionMatrices[treeMaxDepths.index(predictionData['depth']), numIterations.index(predictionData['numTrees']),\n",
      "                            typesOfTests.index(key)] = helpers.confusionMatrix(groundTruth, predictionResult)\n",
      "\n",
      "for treeDepthIndex in np.arange(len(treeMaxDepths)):\n",
      "    plt.figure(figsize=(20,4))\n",
      "    print(\"Max tree depth %s\" %(treeMaxDepths[treeDepthIndex]))\n",
      "    for testTypeIndex in np.arange(len(typesOfTests)):\n",
      "        axis = plt.subplot(1,3,testTypeIndex+1)\n",
      "        plt.plot(numIterations, 1-classificationErrors[treeDepthIndex,:,testTypeIndex], 'o')\n",
      "        plt.plot(numIterations, 1-classificationErrors[treeDepthIndex,:,testTypeIndex])\n",
      "        axis.set_title(\"Error rates with number of trees: %s\" %(typesOfTestsTitles[testTypeIndex]))\n",
      "        axis.set_xlabel(\"Number of Trees in forest\")\n",
      "        axis.set_ylabel(\"Error\")\n",
      "    plt.show()"
     ],
     "language": "python",
     "metadata": {},
     "outputs": [],
     "prompt_number": "*"
    },
    {
     "cell_type": "code",
     "collapsed": false,
     "input": [
      "np.set_printoptions(precision=4, suppress=True)\n",
      "print(confusionMatrices[0,numIterations.index(200),typesOfTests.index('testing')])\n",
      "print(confusionMatrices[1,numIterations.index(40),typesOfTests.index('testing')])"
     ],
     "language": "python",
     "metadata": {},
     "outputs": [],
     "prompt_number": "*"
    }
   ],
   "metadata": {}
  }
 ]
}