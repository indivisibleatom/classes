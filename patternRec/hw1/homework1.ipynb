{
 "cells": [
  {
   "cell_type": "markdown",
   "metadata": {},
   "source": [
    "#Homework 1"
   ]
  },
  {
   "cell_type": "code",
   "execution_count": 2,
   "metadata": {
    "collapsed": false
   },
   "outputs": [],
   "source": [
    "import numpy as np\n",
    "import pandas\n",
    "\n",
    "## Change this to location of data-base\n",
    "headers = ['Lab','Alc','Ma','Ash','Alk','Mag','Phe','Fla','NoFla','Pro','Col','Hue','OD','Pr']\n",
    "wineDataPath = \"data/wine.data\"\n",
    "data = pandas.read_csv(wineDataPath, names=headers)\n",
    "\n",
    "classData = [(data[data['Lab'] == 1]), (data[data['Lab'] == 2])]\n",
    "trainingData = [classData[0].sample(5), classData[1].sample(5)]\n",
    "testingData = [classData[0].drop(trainingData[0].index), classData[1].drop(trainingData[1].index)]\n",
    "\n",
    "#Train\n",
    "trainingMeans = [trainingData[0].mean(), trainingData[1].mean()]\n",
    "trainingVariance = trainingData[0].append(trainingData[1]).var()\n",
    "weights = (trainingMeans[1]*trainingMeans[1] - trainingMeans[0]*trainingMeans[0])/trainingVariance\n",
    "\n",
    "bias = 0.5 + ((trainingMeans[1]*trainingMeans[1] - trainingMeans[0]*trainingMeans[0])/2*trainingVariance).sum()\n",
    "\n",
    "#Test\n",
    "#for i in testingData[1].index[0:1]:\n",
    "#    data = testingData[1].ix[i]\n",
    "#    print(weights, data)\n",
    "#    label = 0 if weights.dot(data) > 0 else 1\n"
   ]
  }
 ],
 "metadata": {
  "kernelspec": {
   "display_name": "Python 3",
   "language": "python",
   "name": "python3"
  },
  "language_info": {
   "codemirror_mode": {
    "name": "ipython",
    "version": 3
   },
   "file_extension": ".py",
   "mimetype": "text/x-python",
   "name": "python",
   "nbconvert_exporter": "python",
   "pygments_lexer": "ipython3",
   "version": "3.5.1"
  }
 },
 "nbformat": 4,
 "nbformat_minor": 0
}
