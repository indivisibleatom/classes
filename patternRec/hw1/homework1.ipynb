{
 "cells": [
  {
   "cell_type": "markdown",
   "metadata": {},
   "source": [
    "#Homework 1"
   ]
  },
  {
   "cell_type": "code",
   "execution_count": 1009,
   "metadata": {
    "collapsed": true
   },
   "outputs": [],
   "source": [
    "##PCA:"
   ]
  },
  {
   "cell_type": "code",
   "execution_count": 1014,
   "metadata": {
    "collapsed": true
   },
   "outputs": [],
   "source": [
    "TEST_MODE = 1"
   ]
  },
  {
   "cell_type": "code",
   "execution_count": 1096,
   "metadata": {
    "collapsed": false
   },
   "outputs": [],
   "source": [
    "#Visualization stuff\n",
    "import pandas\n",
    "import matplotlib.pyplot as plt\n",
    "\n",
    "def VisualizeCumulativeSum(values):\n",
    "    sumValues = values.sum()\n",
    "    plt.plot(np.arange(0,values.shape[0]), values/sumValues, color='y')\n",
    "    plt.plot(np.arange(0,values.shape[0]), values/sumValues, 'o', color='r')\n",
    "    plt.show()\n",
    "    \n",
    "def VisualizeEigenVector(vectors, index):\n",
    "    return(vectors[:, index])\n",
    "\n",
    "def VisualizeEigenImage(vectors, index):\n",
    "    image = vectors[index, :]\n",
    "    plt.imshow(image.reshape(28,28).T, origin='upper')\n"
   ]
  },
  {
   "cell_type": "code",
   "execution_count": 1088,
   "metadata": {
    "collapsed": false
   },
   "outputs": [],
   "source": [
    "#PCA\n",
    "import numpy as np\n",
    "\n",
    "def PCA(trainingData):\n",
    "    trainingMean = trainingData.mean(axis=0)\n",
    "    centeredData = trainingData - trainingMean\n",
    "    deviation = centeredData.std(axis = 0);\n",
    "    scaledData = centeredData / deviation\n",
    "    scaledData[:,deviation == 0] = 0\n",
    "\n",
    "    U,eigenValues,V = np.linalg.svd(scaledData.transpose(), full_matrices=False)\n",
    "    eigenValues = (eigenValues**2)/(trainingData.shape[0]-1)\n",
    "    eigenVectors = U.T\n",
    "\n",
    "    if TEST_MODE:\n",
    "        #Check things are what they seem using self written functions\n",
    "        covariance = np.cov(scaledData, rowvar=0)\n",
    "        covSelf = (scaledData.transpose().dot(scaledData))/(scaledData.shape[0]-1)\n",
    "        assert(np.allclose(covariance, covSelf))\n",
    "        testValues, testVectors = np.linalg.eigh(covariance)\n",
    "        testValues = testValues[::-1]\n",
    "        testVectors = testVectors[::-1]\n",
    "        assert(np.allclose(eigenValues, testValues[:len(eigenValues)])) #See eigenvalues are close\n",
    "        print(testVectors.shape, eigenVectors.shape)\n",
    "        #print(testVectors[:,1].dot(testVectors[:,5].T))\n",
    "        #assert(np.allclose(eigenVectors[:,1].dot(eigenVectors[:,5].T), 0)) #See that columns are orthogonal       \n",
    "\n",
    "    return eigenValues, eigenVectors"
   ]
  },
  {
   "cell_type": "markdown",
   "metadata": {},
   "source": [
    "For my implementation of PCA, I show the 10th eigenvector instead of the 20th, as the 20th is zero as the data is 13-dimensional. The most important eigenvector, the 10th eigenvector and the plot for the ratio of the sorted eigenvalues to the sum of the eigenvalues for the wine dataset for two runs, one with 5 and the other time with 50 random samples of each class selected for training are:"
   ]
  },
  {
   "cell_type": "code",
   "execution_count": 1084,
   "metadata": {
    "collapsed": false
   },
   "outputs": [
    {
     "name": "stdout",
     "output_type": "stream",
     "text": [
      "(13, 13) (13, 13)\n",
      "Using 5 samples for training:\n"
     ]
    },
    {
     "data": {
      "image/png": "[encoded data removed]",
      "text/plain": [
       "<matplotlib.figure.Figure at 0x202c5a3f0f0>"
      ]
     },
     "metadata": {},
     "output_type": "display_data"
    },
    {
     "name": "stdout",
     "output_type": "stream",
     "text": [
      "1st eigenvector:  [-0.24095407 -0.31073604 -0.17321271  0.32535422 -0.1440973   0.49353427\n",
      " -0.24291178  0.1482702  -0.34819982  0.22635421  0.06058389 -0.43164237\n",
      " -0.04160593]\n",
      "10th eigenvector: [-0.29310334 -0.29792185 -0.36672942  0.24309294 -0.15763441 -0.20877011\n",
      "  0.25291904  0.03262914 -0.26627004 -0.24233787 -0.00570133  0.50995463\n",
      " -0.32949731] \n",
      "\n",
      "(13, 13) (13, 13)\n",
      "Using 50 samples for training:\n"
     ]
    },
    {
     "data": {
      "image/png": "[encoded data removed]",
      "text/plain": [
       "<matplotlib.figure.Figure at 0x202ce4a4f98>"
      ]
     },
     "metadata": {},
     "output_type": "display_data"
    },
    {
     "name": "stdout",
     "output_type": "stream",
     "text": [
      "1st eigenvector:  [-0.36365031 -0.06596783  0.06640726 -0.37919819  0.01298491 -0.20363257\n",
      "  0.08400938 -0.27219092  0.17266352 -0.2986417  -0.25074968  0.63945648\n",
      "  0.04056656]\n",
      "10th eigenvector: [-0.37705163 -0.06120419  0.23108038 -0.22208626  0.00629542  0.24401073\n",
      "  0.00525288 -0.06298604  0.04918697 -0.31494044  0.62873942 -0.26233893\n",
      "  0.34935391] \n",
      "\n"
     ]
    }
   ],
   "source": [
    "#Analyze the wine-database first\n",
    "import numpy as np\n",
    "import pandas\n",
    "import matplotlib.pyplot as plt\n",
    "%matplotlib inline\n",
    "\n",
    "def getTrainingData(iteration, data):\n",
    "    if iteration == 0:\n",
    "        trainingData = [data[0].sample(5), data[1].sample(55)]\n",
    "    elif iteration == 1:\n",
    "        trainingData = [data[0].sample(50), data[1].sample(50)]\n",
    "    elif iteration == 2:\n",
    "        trainingData = [data[0].sample(50), data[1].sample(50)]\n",
    "    return trainingData\n",
    "\n",
    "## Change this to location of data-bases\n",
    "wineDataPath = \"data/wine.data\"\n",
    "headers = ['Lab','Alc','Ma','Ash','Alk','Mag','Phe','Fla','NoFla','Pro','Col','Hue','OD','Pr']\n",
    "readData = pandas.read_csv(wineDataPath, names=headers)\n",
    "data = [(readData[readData['Lab'] == 1]), (readData[readData['Lab'] == 2])]\n",
    "eigenValues, eigenVectors, mean, deviation = [],[],[],[]\n",
    "\n",
    "identificationStrings = [\"5 samples\", \"50 samples\", \"10-fold cross validation\"]\n",
    "for iteration in range(0,2):\n",
    "    trainingData = getTrainingData(iteration, data)\n",
    "    trainingLabels = [trainingData[0].Lab, trainingData[1].Lab]\n",
    "    trainingDataUnlabeled = [trainingData[0].drop('Lab', axis=1), trainingData[1].drop('Lab', axis=1)]\n",
    "    totalTrainingData = trainingDataUnlabeled[0].append(trainingDataUnlabeled[1]) \n",
    "\n",
    "    testingData = [classData[0].drop(trainingData[0].index), classData[1].drop(trainingData[1].index)]\n",
    "    testingLabels = [testingData[0].Lab, testingData[1].Lab]\n",
    "    testingDataUnlabeled = [testingData[0].drop('Lab', axis=1), testingData[1].drop('Lab', axis=1)]\n",
    "\n",
    "    eValues, eVectors = PCA(totalTrainingData.as_matrix())\n",
    "    eigenValues.append(eValues)\n",
    "    eigenVectors.append(eVectors)\n",
    "    mean.append(totalTrainingData.mean())\n",
    "    centeredData = totalTrainingData - totalTrainingData.mean()\n",
    "    deviation.append(centeredData.std(axis = 0))\n",
    "\n",
    "    print(\"Using %s for training:\" %(identificationStrings[iteration]))\n",
    "    VisualizeCumulativeSum( eigenValues[iteration] )\n",
    "    print(\"1st eigenvector: \", VisualizeEigenVector( eigenVectors[iteration], 0 ))\n",
    "    print(\"10th eigenvector:\", VisualizeEigenVector( eigenVectors[iteration], 9 ), \"\\n\")\n"
   ]
  },
  {
   "cell_type": "markdown",
   "metadata": {},
   "source": [
    "I also use a variable number of eigenvectors for the reconstruction, discarding those for which the ratio: (eigenvalue)/(sum of eigenvalues) falls below a threshhold (I use a threshhold of 0.03). Using this to reconstruct a test-example, I get the following reconstruction errors:"
   ]
  },
  {
   "cell_type": "code",
   "execution_count": null,
   "metadata": {
    "collapsed": false
   },
   "outputs": [],
   "source": [
    "#Analyze wine data\n",
    "testingSample = testingDataUnlabeled[np.random.randint(0, high=len(testingDataUnlabeled))].sample()\n",
    "threshhold = 0.03\n",
    "\n",
    "for iteration in range(0,len(eigenValues)):   \n",
    "    print(\"When using %s for training:\" %(identificationStrings[iteration]))\n",
    "    sumValues = eigenValues[iteration].sum()\n",
    "    scaledValues = eigenValues[iteration]/sumValues\n",
    "    for j in range(0,eigenValues[iteration].shape[0]):\n",
    "        if scaledValues[j] < threshhold:\n",
    "            break\n",
    "\n",
    "    #First normalize and center-mean the sample\n",
    "    centeredSample = testingSample - mean[iteration]\n",
    "    normalizedSample = centeredSample / deviation[iteration]\n",
    "\n",
    "    #Decide number of eigenvectors to use\n",
    "    numToUse = j+1\n",
    "    #if TEST_MODE:\n",
    "       #Use all eigenVectors and see that reconstruction error is zero\n",
    "       #numToUse = eigenValues[i].shape[0] \n",
    "    print(\"Number of eigenvectors being used \", numToUse)\n",
    "    \n",
    "    basis = eigenVectors[iteration][:,:numToUse].T\n",
    "    projection = basis.dot(normalizedSample.T)\n",
    "    reconstruction = (basis.T.dot(projection)).T\n",
    "\n",
    "    #if TEST_MODE:\n",
    "    #    assert(np.allclose(np.linalg.norm(basis[:,0]), 1)) #Unit basis\n",
    "    #    assert(np.allclose(basis[:,1].dot(basis[:,5].T), 0)) #Orthogonal basis\n",
    "    #    assert(np.allclose(reconstruction - normalizedSample, 0)) #Complete reconstruction\n",
    "\n",
    "    print(\"Reconstruction error:\", np.linalg.norm(reconstruction - normalizedSample), \"\\n\")"
   ]
  },
  {
   "cell_type": "code",
   "execution_count": null,
   "metadata": {
    "collapsed": true
   },
   "outputs": [],
   "source": [
    "    #Train\n",
    "    trainingMeans = [trainingDataUnlabeled[0].mean(), trainingDataUnlabeled[1].mean()]\n",
    "    trainingVariance = totalTrainingData.var()\n",
    "    weights = (trainingMeans[1]*trainingMeans[1] - trainingMeans[0]*trainingMeans[0])/trainingVariance\n",
    "    bias = 0.5 + ((trainingMeans[1]*trainingMeans[1] - trainingMeans[0]*trainingMeans[0])/2*trainingVariance).sum()\n",
    "\n",
    "    #Test\n",
    "    #for i in testingData[1].index[0:1]:\n",
    "    #    data = testingData[1].ix[i]\n",
    "    #    print(weights, data)\n",
    "    #    label = 0 if weights.dot(data) > 0 else 1"
   ]
  },
  {
   "cell_type": "code",
   "execution_count": 1086,
   "metadata": {
    "collapsed": false
   },
   "outputs": [],
   "source": [
    "#Analyze mnist\n",
    "import numpy as np\n",
    "import pandas\n",
    "import matplotlib.pyplot as plt\n",
    "\n",
    "## Change this to location of data-bases\n",
    "mnistTrainDataPath = \"data/train.csv\"\n",
    "mnistTestDataPath = \"data/test.csv\"\n",
    "\n",
    "readData = pandas.read_csv(mnistTrainDataPath, header=None)\n",
    "readData = readData.transpose()"
   ]
  },
  {
   "cell_type": "code",
   "execution_count": null,
   "metadata": {
    "collapsed": false
   },
   "outputs": [],
   "source": [
    "import matplotlib.image as mpimg\n",
    "\n",
    "#readData.\n",
    "data = [(readData[readData[784] == 0]), (readData[readData[784] == 1])]\n",
    "eigenValues, eigenVectors, mean, deviation = [],[],[],[]\n",
    "\n",
    "iteration = 0\n",
    "trainingData = getTrainingData(iteration, data)\n",
    "trainingLabels = [trainingData[0][784], trainingData[1][784]]\n",
    "trainingDataUnlabeled = [trainingData[0].drop(trainingData[0].columns[784], axis=1), \n",
    "                         trainingData[1].drop(trainingData[1].columns[784], axis=1)]\n",
    "totalTrainingData = trainingDataUnlabeled[0].append(trainingDataUnlabeled[1]) \n",
    "\n",
    "#image = totalTrainingData[3:4]\n",
    "#plt.imshow(image.as_matrix().reshape(28,28).T, origin='upper')\n",
    "\n",
    "#testingData = [classData[0].drop(trainingData[0].index), classData[1].drop(trainingData[1].index)]\n",
    "#testingLabels = [testingData[0].Lab, testingData[1].Lab]\n",
    "#testingDataUnlabeled = [testingData[0].drop('Lab', axis=1), testingData[1].drop('Lab', axis=1)]\n",
    "\n",
    "eValues, eVectors = PCA(totalTrainingData.as_matrix())\n",
    "eigenValues.append(eValues)\n",
    "eigenVectors.append(eVectors)\n",
    "mean.append(totalTrainingData.mean())\n",
    "centeredData = totalTrainingData - totalTrainingData.mean()\n",
    "deviation.append(centeredData.std(axis = 0))\n",
    "\n",
    "print(eigenVectors[0].shape)\n",
    "print(\"Using %s fototalTrainingDatar training:\" %(identificationStrings[iteration]))\n",
    "VisualizeCumulativeSum( eigenValues[iteration] )\n",
    "print(\"1st eigenvector: \")\n",
    "plt.subplots(1)\n",
    "VisualizeEigenImage( eigenVectors[iteration], 0 )\n",
    "plt.show()\n",
    "print(\"10th eigenvector:\")\n",
    "plt.subplots(1)\n",
    "VisualizeEigenImage( eigenVectors[iteration], 9 )\n",
    "plt.show()"
   ]
  },
  {
   "cell_type": "code",
   "execution_count": null,
   "metadata": {
    "collapsed": false
   },
   "outputs": [],
   "source": [
    "array1 = np.array([[1,2,3],[0, 1, 2]])\n",
    "array2 = np.array([0, 1, 1])\n",
    "result = array1/array2\n",
    "result[:,array2 == 0] = 0\n",
    "print(result)"
   ]
  }
 ],
 "metadata": {
  "kernelspec": {
   "display_name": "Python 3",
   "language": "python",
   "name": "python3"
  },
  "language_info": {
   "codemirror_mode": {
    "name": "ipython",
    "version": 3
   },
   "file_extension": ".py",
   "mimetype": "text/x-python",
   "name": "python",
   "nbconvert_exporter": "python",
   "pygments_lexer": "ipython3",
   "version": "3.5.1"
  }
 },
 "nbformat": 4,
 "nbformat_minor": 0
}
