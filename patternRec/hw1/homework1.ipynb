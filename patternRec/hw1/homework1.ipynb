{
 "cells": [
  {
   "cell_type": "markdown",
   "metadata": {},
   "source": [
    "#Homework 1"
   ]
  },
  {
   "cell_type": "code",
   "execution_count": null,
   "metadata": {
    "collapsed": true
   },
   "outputs": [],
   "source": [
    "##PCA:"
   ]
  },
  {
   "cell_type": "code",
   "execution_count": 555,
   "metadata": {
    "collapsed": true
   },
   "outputs": [],
   "source": [
    "TEST_MODE = 1"
   ]
  },
  {
   "cell_type": "code",
   "execution_count": 702,
   "metadata": {
    "collapsed": false
   },
   "outputs": [],
   "source": [
    "#Visualization stuff\n",
    "import pandas\n",
    "import matplotlib.pyplot as plt\n",
    "\n",
    "def VisualizeCumulativeSum(values):\n",
    "    sumValues = values.sum()\n",
    "    plt.plot(np.arange(0,values.shape[0]), values/sumValues, color='y')\n",
    "    plt.plot(np.arange(0,values.shape[0]), values/sumValues, 'o', color='r')\n",
    "    plt.show()\n",
    "    \n",
    "def VisualizeEigenVector(vectors, index):\n",
    "    return(vectors[:, index])"
   ]
  },
  {
   "cell_type": "code",
   "execution_count": 688,
   "metadata": {
    "collapsed": false
   },
   "outputs": [],
   "source": [
    "#PCA\n",
    "import numpy as np\n",
    "\n",
    "def PCA(trainingData):\n",
    "    trainingMean = trainingData.mean()\n",
    "    centeredData = trainingData - trainingMean\n",
    "    deviation = centeredData.std(axis = 0);\n",
    "    scaledData = centeredData / deviation\n",
    "\n",
    "    eigenVectors,eigenValues,V = np.linalg.svd(scaledData.transpose(), full_matrices=False)\n",
    "    eigenValues = (eigenValues**2)/(trainingData.shape[0]-1)\n",
    "    eigenVectors = eigenVectors[:,:min(trainingData.shape[1], trainingData.shape[0])].T\n",
    "\n",
    "    if TEST_MODE:\n",
    "        #Check things are what they seem using self written functions\n",
    "        covariance = np.cov(scaledData, rowvar=0)\n",
    "        covSelf = (scaledData.transpose().dot(scaledData))/(scaledData.shape[0]-1)\n",
    "        assert(np.allclose(covariance, covSelf))\n",
    "        testValues, testVectors = np.linalg.eigh(covariance)\n",
    "        testValues = testValues[::-1]\n",
    "        testVectors = testVectors[::-1]\n",
    "        assert(np.allclose(eigenValues, testValues[:len(eigenValues)])) #See eigenvalues are close\n",
    "        assert(np.allclose(eigenVectors[:,1].dot(eigenVectors[:,5].T), 0)) #See that columns are orthogonal\n",
    "\n",
    "    return eigenValues, eigenVectors"
   ]
  },
  {
   "cell_type": "markdown",
   "metadata": {},
   "source": [
    "For my implementation of PCA, I show the 10th eigenvector instead of the 20th, as the 20th is zero as the data is 13-dimensional. The most important eigenvector, the 10th eigenvector and the plot for the ratio of the sorted eigenvalues to the sum of the eigenvalues for the wine dataset for two runs, one with 5 and the other time with 50 random samples of each class selected for training are:"
   ]
  },
  {
   "cell_type": "code",
   "execution_count": 804,
   "metadata": {
    "collapsed": false
   },
   "outputs": [
    {
     "name": "stdout",
     "output_type": "stream",
     "text": [
      "Using 5 samples for training:\n"
     ]
    },
    {
     "data": {
      "image/png": "[encoded data removed]",
      "text/plain": [
       "<matplotlib.figure.Figure at 0x20285917a58>"
      ]
     },
     "metadata": {},
     "output_type": "display_data"
    },
    {
     "name": "stdout",
     "output_type": "stream",
     "text": [
      "1st eigenvector:  [-0.25369183 -0.33085365  0.13800988  0.38863039 -0.04719466  0.16106408\n",
      " -0.60579682  0.0259758  -0.20282422  0.1625935   0.40003842  0.15028371\n",
      " -0.10036067]\n",
      "10th eigenvector: [-0.324991   -0.30403303  0.0911298   0.42616953 -0.04730188 -0.0920602\n",
      "  0.0794456  -0.12810537 -0.0375872  -0.38582639 -0.5602095  -0.26230366\n",
      " -0.21370967] \n",
      "\n",
      "Using 50 samples for training:\n"
     ]
    },
    {
     "data": {
      "image/png": "[encoded data removed]",
      "text/plain": [
       "<matplotlib.figure.Figure at 0x2028322bc18>"
      ]
     },
     "metadata": {},
     "output_type": "display_data"
    },
    {
     "name": "stdout",
     "output_type": "stream",
     "text": [
      "1st eigenvector:  [-0.34937242 -0.20156646  0.00586919 -0.29303269  0.122386   -0.06054851\n",
      "  0.3044874  -0.20346922  0.15645519 -0.47419842 -0.42633642  0.40279701\n",
      "  0.07280082]\n",
      "10th eigenvector: [-0.37602564 -0.1765071  -0.11704959 -0.21578595 -0.06097997 -0.26808928\n",
      " -0.16640532  0.00980228  0.14777464 -0.0577837   0.66295574  0.1885831\n",
      " -0.40442347] \n",
      "\n"
     ]
    }
   ],
   "source": [
    "#Analyze the wine-database first\n",
    "import numpy as np\n",
    "import pandas\n",
    "import matplotlib.pyplot as plt\n",
    "%matplotlib inline\n",
    "\n",
    "def getTrainingData(iteration, data):\n",
    "    if iteration == 0:\n",
    "        trainingData = [data[0].sample(5), data[1].sample(50)]\n",
    "    elif iteration == 1:\n",
    "        trainingData = [data[0].sample(50), data[1].sample(50)]\n",
    "    elif iteration == 2:\n",
    "        trainingData = [data[0].sample(50), data[1].sample(50)]\n",
    "    return trainingData\n",
    "\n",
    "## Change this to location of data-bases\n",
    "wineDataPath = \"data/wine.data\"\n",
    "headers = ['Lab','Alc','Ma','Ash','Alk','Mag','Phe','Fla','NoFla','Pro','Col','Hue','OD','Pr']\n",
    "readData = pandas.read_csv(wineDataPath, names=headers)\n",
    "data = [(readData[readData['Lab'] == 1]), (readData[readData['Lab'] == 2])]\n",
    "eigenValues, eigenVectors, mean, deviation = [],[],[],[]\n",
    "\n",
    "identificationStrings = [\"5 samples\", \"50 samples\", \"10-fold cross validation\"]\n",
    "for iteration in range(0,2):\n",
    "    trainingData = getTrainingData(iteration, data)\n",
    "    trainingLabels = [trainingData[0].Lab, trainingData[1].Lab]\n",
    "    trainingDataUnlabeled = [trainingData[0].drop('Lab', axis=1), trainingData[1].drop('Lab', axis=1)]\n",
    "    totalTrainingData = trainingDataUnlabeled[0].append(trainingDataUnlabeled[1]) \n",
    "\n",
    "    testingData = [classData[0].drop(trainingData[0].index), classData[1].drop(trainingData[1].index)]\n",
    "    testingLabels = [testingData[0].Lab, testingData[1].Lab]\n",
    "    testingDataUnlabeled = [testingData[0].drop('Lab', axis=1), testingData[1].drop('Lab', axis=1)]\n",
    "\n",
    "    eValues, eVectors = PCA(totalTrainingData)\n",
    "    eigenValues.append(eValues)\n",
    "    eigenVectors.append(eVectors)\n",
    "    mean.append(totalTrainingData.mean())\n",
    "    centeredData = totalTrainingData - totalTrainingData.mean()\n",
    "    deviation.append(centeredData.std(axis = 0))\n",
    "\n",
    "    print(\"Using %s for training:\" %(identificationStrings[iteration]))\n",
    "    VisualizeCumulativeSum( eigenValues[iteration] )\n",
    "    print(\"1st eigenvector: \", VisualizeEigenVector( eigenVectors[iteration], 0 ))\n",
    "    print(\"10th eigenvector:\", VisualizeEigenVector( eigenVectors[iteration], 9 ), \"\\n\")\n"
   ]
  },
  {
   "cell_type": "markdown",
   "metadata": {},
   "source": [
    "I also use a variable number of eigenvectors for the reconstruction, discarding those for which the ratio: (eigenvalue)/(sum of eigenvalues) falls below a threshhold (I use a threshhold of 0.03). Using this to reconstruct a test-example, I get the following reconstruction errors:"
   ]
  },
  {
   "cell_type": "code",
   "execution_count": 805,
   "metadata": {
    "collapsed": false
   },
   "outputs": [
    {
     "name": "stdout",
     "output_type": "stream",
     "text": [
      "When using 5 samples for training:\n",
      "Number of eigenvectors being used  10\n",
      "Reconstruction error: 1.27270672338 \n",
      "\n",
      "When using 50 samples for training:\n",
      "Number of eigenvectors being used  9\n",
      "Reconstruction error: 1.47553849796 \n",
      "\n"
     ]
    }
   ],
   "source": [
    "#Analyze wine data\n",
    "testingSample = testingDataUnlabeled[np.random.randint(0, high=len(testingDataUnlabeled))].sample()\n",
    "threshhold = 0.03\n",
    "\n",
    "for iteration in range(0,len(eigenValues)):   \n",
    "    print(\"When using %s for training:\" %(identificationStrings[iteration]))\n",
    "    sumValues = eigenValues[iteration].sum()\n",
    "    scaledValues = eigenValues[iteration]/sumValues\n",
    "    for j in range(0,eigenValues[iteration].shape[0]):\n",
    "        if scaledValues[j] < threshhold:\n",
    "            break\n",
    "\n",
    "    #First normalize and center-mean the sample\n",
    "    centeredSample = testingSample - mean[iteration]\n",
    "    normalizedSample = centeredSample / deviation[iteration]\n",
    "\n",
    "    #Decide number of eigenvectors to use\n",
    "    numToUse = j+1\n",
    "    #if TEST_MODE:\n",
    "       #Use all eigenVectors and see that reconstruction error is zero\n",
    "       #numToUse = eigenValues[i].shape[0] \n",
    "    print(\"Number of eigenvectors being used \", numToUse)\n",
    "    \n",
    "    basis = eigenVectors[iteration][:,:numToUse].T\n",
    "    projection = basis.dot(normalizedSample.T)\n",
    "    reconstruction = (basis.T.dot(projection)).T\n",
    "\n",
    "    #if TEST_MODE:\n",
    "    #    assert(np.allclose(np.linalg.norm(basis[:,0]), 1)) #Unit basis\n",
    "    #    assert(np.allclose(basis[:,1].dot(basis[:,5].T), 0)) #Orthogonal basis\n",
    "    #    assert(np.allclose(reconstruction - normalizedSample, 0)) #Complete reconstruction\n",
    "\n",
    "    print(\"Reconstruction error:\", np.linalg.norm(reconstruction - normalizedSample), \"\\n\")"
   ]
  },
  {
   "cell_type": "code",
   "execution_count": 806,
   "metadata": {
    "collapsed": true
   },
   "outputs": [],
   "source": [
    "    #Train\n",
    "    trainingMeans = [trainingDataUnlabeled[0].mean(), trainingDataUnlabeled[1].mean()]\n",
    "    trainingVariance = totalTrainingData.var()\n",
    "    weights = (trainingMeans[1]*trainingMeans[1] - trainingMeans[0]*trainingMeans[0])/trainingVariance\n",
    "    bias = 0.5 + ((trainingMeans[1]*trainingMeans[1] - trainingMeans[0]*trainingMeans[0])/2*trainingVariance).sum()\n",
    "\n",
    "    #Test\n",
    "    #for i in testingData[1].index[0:1]:\n",
    "    #    data = testingData[1].ix[i]\n",
    "    #    print(weights, data)\n",
    "    #    label = 0 if weights.dot(data) > 0 else 1"
   ]
  },
  {
   "cell_type": "code",
   "execution_count": 807,
   "metadata": {
    "collapsed": false
   },
   "outputs": [],
   "source": [
    "#Analyze mnist\n",
    "import numpy as np\n",
    "import pandas\n",
    "import matplotlib.pyplot as plt\n",
    "\n",
    "## Change this to location of data-bases\n",
    "mnistTrainDataPath = \"data/train.csv\"\n",
    "mnistTestDataPath = \"data/test.csv\"\n",
    "\n",
    "mnistData = pandas.read_csv(mnistTrainDataPath, names=headers)"
   ]
  },
  {
   "cell_type": "code",
   "execution_count": 808,
   "metadata": {
    "collapsed": false
   },
   "outputs": [
    {
     "data": {
      "text/plain": [
       "Lab      5\n",
       "Alc      5\n",
       "Ma       5\n",
       "Ash      5\n",
       "Alk      5\n",
       "Mag      5\n",
       "Phe      5\n",
       "Fla      5\n",
       "NoFla    5\n",
       "Pro      5\n",
       "Col      5\n",
       "Hue      5\n",
       "OD       5\n",
       "Pr       5\n",
       "Name: (0.0, 0.0, 0.0, 0.0, 0.0, 0.0, 0.0, 0.0, 0.0, 0.0, 0.0, 0.0, 0.0, 0.0, 0.0, 0.0, 0.0, 0.0, 0.0, 0.0, 0.0, 0.0, 0.0, 0.0, 0.0, 0.0, 0.0, 0.0, 0.0, 0.0, 0.0, 0.0, 0.0, 0.0, 0.0, 0.0, 0.0, 0.0, 0.0, 0.0, 0.0, 0.0, 0.0, 0.0, 0.0, 0.0, 0.0, 0.0, 0.0, 0.0, 0.0, 0.0, 0.0, 0.0, 0.0, 0.0, 0.0, 0.0, 0.0, 0.0, 0.0, 0.0, 0.0, 0.0, 0.0, 0.0, 0.0, 0.0, 0.0, 0.0, 0.0, 0.0, 0.0, 0.0, 0.0, 0.0, 0.0, 0.0, 0.0, 0.0, 0.0, 0.0, 0.0, 0.0, 0.0, 0.0, 0.0, 0.0, 0.0, 0.0, 0.0, 0.0, 0.0, 0.0, 0.0, 0.0, 0.0, 0.0, 0.0, 0.0, ...), dtype: float64"
      ]
     },
     "execution_count": 808,
     "metadata": {},
     "output_type": "execute_result"
    }
   ],
   "source": [
    "#numRecords = len(readData) / 785\n",
    "#trainingData = readData.reshape(785,)\n",
    "#eigenValues, eigenVectors, mean, deviation = [],[],[],[]\n",
    "\n",
    "mnistData.iloc[784]\n",
    "\n",
    "#data = [(readData[readData.iloc[784] == 0]), (readData[readData.iloc[784] == 1])]\n",
    "#imshow(data[0].mean(axis=0), cmap=cm.gray)\n",
    "#trainingData = getTrainingData(iteration, readData)\n",
    "#trainingLabels = [trainingData[0].Lab, trainingData[1].Lab]\n",
    "#trainingDataUnlabeled = [trainingData[0].drop('Lab', axis=1), trainingData[1].drop('Lab', axis=1)]\n",
    "#totalTrainingData = trainingDataUnlabeled[0].append(trainingDataUnlabeled[1]) \n",
    "\n",
    "#testingData = [classData[0].drop(trainingData[0].index), classData[1].drop(trainingData[1].index)]\n",
    "#testingLabels = [testingData[0].Lab, testingData[1].Lab]\n",
    "#testingDataUnlabeled = [testingData[0].drop('Lab', axis=1), testingData[1].drop('Lab', axis=1)]\n",
    "\n",
    "#eValues, eVectors = PCA(totalTrainingData)\n",
    "#eigenValues.append(eValues)\n",
    "#eigenVectors.append(eVectors)\n",
    "#mean.append(totalTrainingData.mean())\n",
    "#centeredData = totalTrainingData - totalTrainingData.mean()\n",
    "#deviation.append(centeredData.std(axis = 0))\n",
    "\n",
    "#print(\"Using %s for training:\" %(identificationStrings[iteration]))\n",
    "#VisualizeCumulativeSum( eigenValues[iteration] )\n",
    "#print(\"1st eigenvector: \", VisualizeEigenVector( eigenVectors[iteration], 0 ))\n",
    "#print(\"10th eigenvector:\", VisualizeEigenVector( eigenVectors[iteration], 9 ), \"\\n\")\n",
    "\n"
   ]
  }
 ],
 "metadata": {
  "kernelspec": {
   "display_name": "Python 3",
   "language": "python",
   "name": "python3"
  },
  "language_info": {
   "codemirror_mode": {
    "name": "ipython",
    "version": 3
   },
   "file_extension": ".py",
   "mimetype": "text/x-python",
   "name": "python",
   "nbconvert_exporter": "python",
   "pygments_lexer": "ipython3",
   "version": "3.5.1"
  }
 },
 "nbformat": 4,
 "nbformat_minor": 0
}
